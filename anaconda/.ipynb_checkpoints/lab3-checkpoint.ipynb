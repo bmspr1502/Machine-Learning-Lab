{
 "cells": [
  {
   "cell_type": "code",
   "execution_count": 31,
   "id": "1cc9351a",
   "metadata": {},
   "outputs": [
    {
     "name": "stdout",
     "output_type": "stream",
     "text": [
      "    color toughness fungus appearance poisonous\n",
      "0   green      hard     no   wrinkled       yes\n",
      "1   green      hard    yes     smooth        no\n",
      "2   brown      soft     no   wrinkled        no\n",
      "3  orange      hard     no   wrinkled       yes\n",
      "4   green      soft    yes     smooth       yes\n",
      "5   green      hard    yes   wrinkled       yes\n",
      "6  orange      hard     no   wrinkled       yes \n",
      "\n",
      "\n",
      " The attributes are:  [['green' 'hard' 'no' 'wrinkled']\n",
      " ['green' 'hard' 'yes' 'smooth']\n",
      " ['brown' 'soft' 'no' 'wrinkled']\n",
      " ['orange' 'hard' 'no' 'wrinkled']\n",
      " ['green' 'soft' 'yes' 'smooth']\n",
      " ['green' 'hard' 'yes' 'wrinkled']\n",
      " ['orange' 'hard' 'no' 'wrinkled']]\n",
      "\n",
      " The target is:  ['yes' 'no' 'no' 'yes' 'yes' 'yes' 'yes']\n"
     ]
    }
   ],
   "source": [
    "import pandas as pd\n",
    "import numpy as np\n",
    " \n",
    "#to read the data in the csv file\n",
    "data = pd.read_csv(\"finds.csv\")\n",
    "print(data,\"\\n\")\n",
    " \n",
    "#making an array of all the attributes\n",
    "d = np.array(data)[:,:-1]\n",
    "print(\"\\n The attributes are: \",d)\n",
    " \n",
    "#segragating the target that has positive and negative examples\n",
    "target = np.array(data)[:,-1]\n",
    "print(\"\\n The target is: \",target)\n",
    " "
   ]
  },
  {
   "cell_type": "code",
   "execution_count": 32,
   "id": "c9feaee1",
   "metadata": {},
   "outputs": [],
   "source": [
    "#training function to implement find-s algorithm\n",
    "def train(c,t):\n",
    "    for i, val in enumerate(t):\n",
    "        if val == \"yes\":\n",
    "            specific_hypothesis = c[i].copy()\n",
    "            break\n",
    "             \n",
    "    for i, val in enumerate(c):\n",
    "        if t[i] == \"yes\":\n",
    "            for x in range(len(specific_hypothesis)):\n",
    "                if val[x] != specific_hypothesis[x]:\n",
    "                    specific_hypothesis[x] = '?'\n",
    "                else:\n",
    "                    pass\n",
    "                 \n",
    "    return specific_hypothesis\n",
    " "
   ]
  },
  {
   "cell_type": "code",
   "execution_count": 33,
   "id": "1536b008",
   "metadata": {
    "scrolled": true
   },
   "outputs": [
    {
     "name": "stdout",
     "output_type": "stream",
     "text": [
      "n The final hypothesis is: ['?' '?' '?' '?']\n"
     ]
    }
   ],
   "source": [
    "\n",
    "#obtaining the final hypothesis\n",
    "print(\"n The final hypothesis is:\",train(d,target))"
   ]
  },
  {
   "cell_type": "code",
   "execution_count": null,
   "id": "7362b964",
   "metadata": {},
   "outputs": [],
   "source": []
  }
 ],
 "metadata": {
  "kernelspec": {
   "display_name": "Python 3",
   "language": "python",
   "name": "python3"
  },
  "language_info": {
   "codemirror_mode": {
    "name": "ipython",
    "version": 3
   },
   "file_extension": ".py",
   "mimetype": "text/x-python",
   "name": "python",
   "nbconvert_exporter": "python",
   "pygments_lexer": "ipython3",
   "version": "3.8.8"
  }
 },
 "nbformat": 4,
 "nbformat_minor": 5
}
