{
 "cells": [
  {
   "cell_type": "code",
   "execution_count": 12,
   "id": "fcc3a45e",
   "metadata": {},
   "outputs": [
    {
     "name": "stdout",
     "output_type": "stream",
     "text": [
      "\n",
      "Instances are:\n",
      " [['running nose' 'coughing' 'red skin']\n",
      " ['running nose' 'coughing' 'normal']\n",
      " ['running nose' 'normal' 'red skin']\n",
      " ['normal' 'coughing' 'red skin']\n",
      " ['normal' 'normal' 'red skin']\n",
      " ['normal' 'normal' 'normal']]\n",
      "\n",
      "Target Values are:  ['yes' 'yes' 'no' 'no' 'no' 'no']\n"
     ]
    }
   ],
   "source": [
    "import numpy as np \n",
    "import pandas as pd\n",
    "\n",
    "concepts = []\n",
    "\n",
    "data = pd.read_csv('finds.csv')\n",
    "\n",
    "concepts = np.array(data.iloc[:,0:-1])\n",
    "print(\"\\nInstances are:\\n\",concepts)\n",
    "\n",
    "target = np.array(data.iloc[:,-1])\n",
    "print(\"\\nTarget Values are: \",target)"
   ]
  },
  {
   "cell_type": "code",
   "execution_count": 13,
   "id": "57e1ad40",
   "metadata": {},
   "outputs": [],
   "source": [
    "def learn(concepts, target): \n",
    "    \n",
    "    specific_h = concepts[0].copy()\n",
    "    print(\"\\nInitialization of specific_h and genearal_h\")\n",
    "    \n",
    "    print(\"\\nSpecific Boundary: \", specific_h)\n",
    "    general_h = [[\"?\" for i in range(len(specific_h))] for i in range(len(specific_h))]\n",
    "    \n",
    "    print(\"\\nGeneric Boundary: \",general_h)  \n",
    "\n",
    "    for i, h in enumerate(concepts):\n",
    "        print(\"\\nInstance\", i+1 , \"is \", h)\n",
    "        \n",
    "        if target[i] == \"yes\":\n",
    "            print(\"Instance is Positive \")\n",
    "            for x in range(len(specific_h)): \n",
    "                if h[x]!= specific_h[x]:\n",
    "                    specific_h[x] ='?'\n",
    "                    general_h[x][x] ='?'\n",
    "                   \n",
    "        elif target[i] == \"no\":            \n",
    "            print(\"Instance is Negative \")\n",
    "            for x in range(len(specific_h)): \n",
    "                if h[x]!= specific_h[x]:                    \n",
    "                    general_h[x][x] = specific_h[x]                \n",
    "                else:                    \n",
    "                    general_h[x][x] = '?'        \n",
    "        \n",
    "        print(\"Specific Bundary after \", i+1, \"Instance is \", specific_h)         \n",
    "        print(\"Generic Boundary after \", i+1, \"Instance is \", general_h)\n",
    "        print(\"\\n\")\n",
    "\n",
    "    indices = [i for i, val in enumerate(general_h) if val == ['?', '?', '?', '?', '?', '?']]    \n",
    "    for i in indices:   \n",
    "        general_h.remove(['?', '?', '?', '?', '?', '?']) \n",
    "    return specific_h, general_h \n"
   ]
  },
  {
   "cell_type": "code",
   "execution_count": 14,
   "id": "4ff7b2cb",
   "metadata": {},
   "outputs": [
    {
     "name": "stdout",
     "output_type": "stream",
     "text": [
      "\n",
      "Initialization of specific_h and genearal_h\n",
      "\n",
      "Specific Boundary:  ['running nose' 'coughing' 'red skin']\n",
      "\n",
      "Generic Boundary:  [['?', '?', '?'], ['?', '?', '?'], ['?', '?', '?']]\n",
      "\n",
      "Instance 1 is  ['running nose' 'coughing' 'red skin']\n",
      "Instance is Positive \n",
      "Specific Bundary after  1 Instance is  ['running nose' 'coughing' 'red skin']\n",
      "Generic Boundary after  1 Instance is  [['?', '?', '?'], ['?', '?', '?'], ['?', '?', '?']]\n",
      "\n",
      "\n",
      "\n",
      "Instance 2 is  ['running nose' 'coughing' 'normal']\n",
      "Instance is Positive \n",
      "Specific Bundary after  2 Instance is  ['running nose' 'coughing' '?']\n",
      "Generic Boundary after  2 Instance is  [['?', '?', '?'], ['?', '?', '?'], ['?', '?', '?']]\n",
      "\n",
      "\n",
      "\n",
      "Instance 3 is  ['running nose' 'normal' 'red skin']\n",
      "Instance is Negative \n",
      "Specific Bundary after  3 Instance is  ['running nose' 'coughing' '?']\n",
      "Generic Boundary after  3 Instance is  [['?', '?', '?'], ['?', 'coughing', '?'], ['?', '?', '?']]\n",
      "\n",
      "\n",
      "\n",
      "Instance 4 is  ['normal' 'coughing' 'red skin']\n",
      "Instance is Negative \n",
      "Specific Bundary after  4 Instance is  ['running nose' 'coughing' '?']\n",
      "Generic Boundary after  4 Instance is  [['running nose', '?', '?'], ['?', '?', '?'], ['?', '?', '?']]\n",
      "\n",
      "\n",
      "\n",
      "Instance 5 is  ['normal' 'normal' 'red skin']\n",
      "Instance is Negative \n",
      "Specific Bundary after  5 Instance is  ['running nose' 'coughing' '?']\n",
      "Generic Boundary after  5 Instance is  [['running nose', '?', '?'], ['?', 'coughing', '?'], ['?', '?', '?']]\n",
      "\n",
      "\n",
      "\n",
      "Instance 6 is  ['normal' 'normal' 'normal']\n",
      "Instance is Negative \n",
      "Specific Bundary after  6 Instance is  ['running nose' 'coughing' '?']\n",
      "Generic Boundary after  6 Instance is  [['running nose', '?', '?'], ['?', 'coughing', '?'], ['?', '?', '?']]\n",
      "\n",
      "\n",
      "Final Specific_h: \n",
      "['running nose' 'coughing' '?']\n",
      "Final General_h: \n",
      "[['running nose', '?', '?'], ['?', 'coughing', '?'], ['?', '?', '?']]\n"
     ]
    }
   ],
   "source": [
    "s_final, g_final = learn(concepts, target)\n",
    "\n",
    "print(\"Final Specific_h: \", s_final, sep=\"\\n\")\n",
    "print(\"Final General_h: \", g_final, sep=\"\\n\")"
   ]
  },
  {
   "cell_type": "code",
   "execution_count": null,
   "id": "4cbe63e1",
   "metadata": {},
   "outputs": [],
   "source": []
  },
  {
   "cell_type": "code",
   "execution_count": null,
   "id": "9449681f",
   "metadata": {},
   "outputs": [],
   "source": []
  }
 ],
 "metadata": {
  "kernelspec": {
   "display_name": "Python 3",
   "language": "python",
   "name": "python3"
  },
  "language_info": {
   "codemirror_mode": {
    "name": "ipython",
    "version": 3
   },
   "file_extension": ".py",
   "mimetype": "text/x-python",
   "name": "python",
   "nbconvert_exporter": "python",
   "pygments_lexer": "ipython3",
   "version": "3.8.8"
  }
 },
 "nbformat": 4,
 "nbformat_minor": 5
}
