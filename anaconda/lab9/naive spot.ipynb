{
 "cells": [
  {
   "cell_type": "code",
   "execution_count": 8,
   "metadata": {},
   "outputs": [
    {
     "name": "stdout",
     "output_type": "stream",
     "text": [
      "training data set sample\n",
      "     sepal_length  sepal_width  petal_length  petal_width       Class_name\n",
      "70            5.9          3.2           4.8          1.8  Iris-versicolor\n",
      "105           7.6          3.0           6.6          2.1   Iris-virginica\n",
      "18            5.7          3.8           1.7          0.3      Iris-setosa\n",
      "146           6.3          2.5           5.0          1.9   Iris-virginica\n",
      "106           4.9          2.5           4.5          1.7   Iris-virginica\n"
     ]
    }
   ],
   "source": [
    "import numpy as np\n",
    "import pandas as pd\n",
    "from math import sqrt, exp, pi\n",
    "from sklearn.model_selection import train_test_split\n",
    "from sklearn import metrics\n",
    "\n",
    "data = pd.read_csv('iris.data.csv')\n",
    "print('training data set sample')\n",
    "print(data.sample(5))\n"
   ]
  },
  {
   "cell_type": "code",
   "execution_count": 9,
   "metadata": {},
   "outputs": [
    {
     "name": "stdout",
     "output_type": "stream",
     "text": [
      "\n",
      "replaced labels with numbers\n",
      "     sepal_length  sepal_width  petal_length  petal_width  Class_name\n",
      "24            4.8          3.4           1.9          0.2           1\n",
      "101           5.8          2.7           5.1          1.9           2\n",
      "7             5.0          3.4           1.5          0.2           1\n",
      "73            6.1          2.8           4.7          1.2           0\n",
      "125           7.2          3.2           6.0          1.8           2\n"
     ]
    }
   ],
   "source": [
    "def labels_to_num(data):\n",
    "    # convert strings to numbers\n",
    "    data.replace(['Iris-versicolor','Iris-setosa','Iris-virginica'], [0,1,2], inplace=True)\n",
    "\n",
    "print('\\nreplaced labels with numbers')\n",
    "labels_to_num(data)\n",
    "print(data.sample(5))\n",
    "\n",
    "# split data by class\n",
    "def split_by_class(data):\n",
    "    # split data by class\n",
    "    classes = dict()\n",
    "    for row in data:\n",
    "        if(row[-1] not in classes.keys()):\n",
    "            classes[row[-1]] = list()\n",
    "            \n",
    "        classes[row[-1]].append(row)\n",
    "\n",
    "    return classes"
   ]
  },
  {
   "cell_type": "code",
   "execution_count": 10,
   "metadata": {},
   "outputs": [],
   "source": [
    "# get mean, std and size\n",
    "def get_info(data):\n",
    "    # get data\n",
    "    info = [(np.mean(col), np.std(col), len(col)) for col in zip(*data)]\n",
    "    del info[-1] # remove target coloumn\n",
    "    return info\n",
    "\n",
    "# get mean, std and size by class\n",
    "def get_info_by_class(data):\n",
    "    classData = split_by_class(data)\n",
    "    info = dict()\n",
    "    for classVal, rows in classData.items():\n",
    "        info[classVal] = get_info(rows)\n",
    "    return info\n"
   ]
  },
  {
   "cell_type": "code",
   "execution_count": 11,
   "metadata": {},
   "outputs": [],
   "source": [
    "def calc_prob(x, mean, stdev):\n",
    "\texponent = exp(-((x-mean)**2 / (2 * stdev**2 )))\n",
    "\treturn (1 / (sqrt(2 * pi) * stdev)) * exponent\n",
    "\n",
    "def predict(info, dataset):\n",
    "    outProbs = list()\n",
    "\n",
    "    for data in dataset:\n",
    "        total_rows = sum([info[label][0][2] for label in info])\n",
    "        probs = dict()\n",
    "\n",
    "        for classVal, class_info in info.items():\n",
    "            probs[classVal] = info[classVal][0][2]/float(total_rows)\n",
    "            for i in range(len(class_info)):\n",
    "                mean, stdev, _ = class_info[i]\n",
    "                probs[classVal] *= calc_prob(data[i], mean, stdev)\n",
    "\n",
    "        outProbs.append(probs)\n",
    "\n",
    "    preds = list()\n",
    "    for prob in outProbs:\n",
    "        preds.append(max(prob, key=prob.get))\n",
    "    return preds"
   ]
  },
  {
   "cell_type": "code",
   "execution_count": 12,
   "metadata": {},
   "outputs": [
    {
     "name": "stdout",
     "output_type": "stream",
     "text": [
      "accuracy 0.9\n",
      "confusion matrix\n",
      "[[ 7  0  2]\n",
      " [ 0 11  0]\n",
      " [ 1  0  9]]\n",
      "classification report\n",
      "              precision    recall  f1-score   support\n",
      "\n",
      "           0       0.88      0.78      0.82         9\n",
      "           1       1.00      1.00      1.00        11\n",
      "           2       0.82      0.90      0.86        10\n",
      "\n",
      "    accuracy                           0.90        30\n",
      "   macro avg       0.90      0.89      0.89        30\n",
      "weighted avg       0.90      0.90      0.90        30\n",
      "\n"
     ]
    }
   ],
   "source": [
    "# split training and testing data\n",
    "X_train, X_test = train_test_split(data,test_size=0.2)\n",
    "\n",
    "info = get_info_by_class(X_train.values)\n",
    "y_test = X_test.iloc[:,-1].values\n",
    "X_test = X_test.iloc[:,0:-1]\n",
    "preds = predict(info, X_test.values)\n",
    " \n",
    "print('accuracy', metrics.accuracy_score(y_test,preds))\n",
    "print('confusion matrix')\n",
    "print(metrics.confusion_matrix(y_test, preds))\n",
    "print('classification report')\n",
    "print(metrics.classification_report(y_test, preds))"
   ]
  }
 ],
 "metadata": {
  "interpreter": {
   "hash": "b3ba2566441a7c06988d0923437866b63cedc61552a5af99d1f4fb67d367b25f"
  },
  "kernelspec": {
   "display_name": "Python 3.8.8 64-bit ('base': conda)",
   "language": "python",
   "name": "python3"
  },
  "language_info": {
   "codemirror_mode": {
    "name": "ipython",
    "version": 3
   },
   "file_extension": ".py",
   "mimetype": "text/x-python",
   "name": "python",
   "nbconvert_exporter": "python",
   "pygments_lexer": "ipython3",
   "version": "3.8.8"
  },
  "orig_nbformat": 4
 },
 "nbformat": 4,
 "nbformat_minor": 2
}
