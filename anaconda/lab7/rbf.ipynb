{
 "cells": [
  {
   "cell_type": "code",
   "execution_count": 37,
   "metadata": {},
   "outputs": [],
   "source": [
    "import numpy as np\n",
    "import pcn              #using perceptron network\n",
    "import kmeans           # and kmeans clustering algorithm\n",
    "\n",
    "class rbf:\n",
    "    \"\"\" The Radial Basis Function network\n",
    "    Parameters are number of RBFs, and their width, how to train the network \n",
    "    (pseudo-inverse or kmeans) and whether the RBFs are normalised\"\"\"\n",
    "\n",
    "    def __init__(self,inputs,targets,nRBF,sigma=0,usekmeans=0,normalise=0):\n",
    "        self.nin = np.shape(inputs)[1]\n",
    "        self.nout = np.shape(targets)[1]\n",
    "        self.ndata = np.shape(inputs)[0]\n",
    "        self.nRBF = nRBF\n",
    "        self.usekmeans = usekmeans\n",
    "        self.normalise = normalise\n",
    "        \n",
    "        if usekmeans:\n",
    "            self.kmeansnet = kmeans.kmeans(self.nRBF,inputs)\n",
    "            \n",
    "        self.hidden = np.zeros((self.ndata,self.nRBF+1))\n",
    "        \n",
    "        if sigma==0:\n",
    "            # Set width of Gaussians\n",
    "            d = (inputs.max(axis=0)-inputs.min(axis=0)).max()\n",
    "            self.sigma = d/np.sqrt(2*nRBF)  \n",
    "        else:\n",
    "            self.sigma = sigma\n",
    "                \n",
    "        self.perceptron = pcn.pcn(self.hidden[:,:-1],targets)\n",
    "        \n",
    "        # Initialise network\n",
    "        self.weights1 = np.zeros((self.nin,self.nRBF))\n",
    "        \n",
    "    def rbftrain(self,inputs,targets,eta=0.25,niterations=100):\n",
    "        if self.usekmeans==0:\n",
    "            # Version 1: set RBFs to be datapoints\n",
    "            indices = range(self.ndata)\n",
    "            np.random.shuffle(indices)\n",
    "            for i in range(self.nRBF):\n",
    "                self.weights1[:,i] = inputs[indices[i],:]\n",
    "        else:\n",
    "            # Version 2: use k-means\n",
    "            self.weights1 = np.transpose(self.kmeansnet.kmeanstrain(inputs))\n",
    "\n",
    "        for i in range(self.nRBF):\n",
    "            self.hidden[:,i] = np.exp(-np.sum((inputs - np.ones((1,self.nin))*self.weights1[:,i])**2,axis=1)/(2*self.sigma**2))\n",
    "        if self.normalise:\n",
    "            self.hidden[:,:-1] /= np.transpose(np.ones((1,np.shape(self.hidden)[0]))*self.hidden[:,:-1].sum(axis=1))\n",
    "        \n",
    "        # Call Perceptron without bias node (since it adds its own)\n",
    "        self.perceptron.pcntrain(self.hidden[:,:-1],targets,eta,niterations)\n",
    "        \n",
    "    def rbffwd(self,inputs):\n",
    "\n",
    "        hidden = np.zeros((np.shape(inputs)[0],self.nRBF+1))\n",
    "\n",
    "        for i in range(self.nRBF):\n",
    "            hidden[:,i] = np.exp(-np.sum((inputs - np.ones((1,self.nin))*self.weights1[:,i])**2,axis=1)/(2*self.sigma**2))\n",
    "\n",
    "        if self.normalise:\n",
    "            hidden[:,:-1] /= np.transpose(np.ones((1,np.shape(hidden)[0]))*hidden[:,:-1].sum(axis=1))\n",
    "        \n",
    "        # Add the bias\n",
    "        hidden[:,-1] = -1\n",
    "        outputs = self.perceptron.pcnfwd(hidden)\n",
    "        return outputs\n",
    "    \n",
    "    def confmat(self,inputs,targets):\n",
    "        \"\"\"Confusion matrix\"\"\"\n",
    "\n",
    "        outputs = self.rbffwd(inputs)\n",
    "        nClasses = np.shape(targets)[1]\n",
    "\n",
    "        if nClasses==1:\n",
    "            nClasses = 2\n",
    "            outputs = np.where(outputs>0,1,0)\n",
    "        else:\n",
    "            # 1-of-N encoding\n",
    "            outputs = np.argmax(outputs,1)\n",
    "            targets = np.argmax(targets,1)\n",
    "\n",
    "        cm = np.zeros((nClasses,nClasses))\n",
    "        for i in range(nClasses):\n",
    "            for j in range(nClasses):\n",
    "                cm[i,j] = np.sum(np.where(outputs==i,1,0)*np.where(targets==j,1,0))\n",
    "\n",
    "        output = cm\n",
    "        print(\"Confusion matrix is:\")\n",
    "        print(cm)\n",
    "        print(\"Percentage Correct: \", np.trace(cm) / np.sum(cm) * 100)\n",
    "        return output"
   ]
  },
  {
   "cell_type": "code",
   "execution_count": 47,
   "metadata": {},
   "outputs": [
    {
     "name": "stdout",
     "output_type": "stream",
     "text": [
      "[[ 0.49880026  0.61144219 -0.25438505  0.20451374  0.        ]\n",
      " [ 0.64342405  0.56622605 -0.23328978 -0.07427406  0.        ]\n",
      " [ 0.53704115 -0.4135054   0.03185603  0.3565094   0.        ]\n",
      " [ 0.47298296  0.68911749 -0.32721727 -0.6598847   0.        ]\n",
      " [-0.01635021 -0.57824013  0.19202762  0.05571211  0.        ]]\n"
     ]
    }
   ],
   "source": [
    "iris = np.loadtxt('banknote.csv',delimiter=',')\n",
    "iris[:,:4] = iris[:,:4]-iris[:,:4].mean(axis=0)\n",
    "imax = np.concatenate((iris.max(axis=0)*np.ones((1,5)),iris.min(axis=0)*np.ones((1,5))),axis=0).max(axis=0)\n",
    "iris[:,:4] = iris[:,:4]/imax[:4]\n",
    "print (iris[0:5,:])"
   ]
  },
  {
   "cell_type": "code",
   "execution_count": 58,
   "metadata": {},
   "outputs": [
    {
     "data": {
      "text/plain": [
       "(1372, 5)"
      ]
     },
     "execution_count": 58,
     "metadata": {},
     "output_type": "execute_result"
    }
   ],
   "source": [
    "iris.shape"
   ]
  },
  {
   "cell_type": "code",
   "execution_count": 48,
   "metadata": {},
   "outputs": [
    {
     "data": {
      "text/plain": [
       "'\\nindices = np.where(iris[:,9]==2)\\ntarget[indices,2] = 1\\nindices = np.where(iris[:,9]==3) \\ntarget[indices,0] = 1\\nindices = np.where(iris[:,9]==4)\\ntarget[indices,1] = 1\\nindices = np.where(iris[:,9]==5)\\ntarget[indices,2] = 1\\nindices = np.where(iris[:,9]==5)\\ntarget[indices,2] = 1\\n'"
      ]
     },
     "execution_count": 48,
     "metadata": {},
     "output_type": "execute_result"
    }
   ],
   "source": [
    "target = np.zeros((np.shape(iris)[0], 2))\n",
    "indices = np.where(iris[:,4]==0) \n",
    "target[indices,0] = 1\n",
    "indices = np.where(iris[:,4]==1)\n",
    "target[indices,1] = 1\n",
    "'''\n",
    "indices = np.where(iris[:,9]==2)\n",
    "target[indices,2] = 1\n",
    "indices = np.where(iris[:,9]==3) \n",
    "target[indices,0] = 1\n",
    "indices = np.where(iris[:,9]==4)\n",
    "target[indices,1] = 1\n",
    "indices = np.where(iris[:,9]==5)\n",
    "target[indices,2] = 1\n",
    "indices = np.where(iris[:,9]==5)\n",
    "target[indices,2] = 1\n",
    "'''\n"
   ]
  },
  {
   "cell_type": "code",
   "execution_count": 49,
   "metadata": {},
   "outputs": [],
   "source": [
    "order = np.arange(np.shape(iris)[0])\n",
    "np.random.shuffle(order)\n",
    "iris = iris[order,:]\n",
    "target = target[order,:]"
   ]
  },
  {
   "cell_type": "code",
   "execution_count": 50,
   "metadata": {},
   "outputs": [],
   "source": [
    "train = iris[::2,0:4]\n",
    "traint = target[::2]\n",
    "valid = iris[1::4,0:4]\n",
    "validt = target[1::4]\n",
    "test = iris[3::4,0:4]\n",
    "testt = target[3::4]\n"
   ]
  },
  {
   "cell_type": "code",
   "execution_count": 51,
   "metadata": {},
   "outputs": [
    {
     "name": "stdout",
     "output_type": "stream",
     "text": [
      "[1.         1.         0.9805079  0.92117889] [-1.16973236 -1.41444409 -0.40284444 -1.803395  ]\n"
     ]
    }
   ],
   "source": [
    "print (train.max(axis=0), train.min(axis=0))"
   ]
  },
  {
   "cell_type": "code",
   "execution_count": 60,
   "metadata": {},
   "outputs": [
    {
     "name": "stdout",
     "output_type": "stream",
     "text": [
      "Train data:-\n",
      "Confusion matrix is:\n",
      "[[364.  37.]\n",
      " [ 29. 256.]]\n",
      "Percentage Correct:  90.37900874635568\n",
      "Test data:-\n",
      "Confusion matrix is:\n",
      "[[161.  22.]\n",
      " [  6. 154.]]\n",
      "Percentage Correct:  91.83673469387756\n"
     ]
    }
   ],
   "source": [
    "net = rbf(train,traint,5,1,1)\n",
    "\n",
    "net.rbftrain(train,traint,0.25,5000)\n",
    "print(\"Train data:-\")\n",
    "net.confmat(train,traint)\n",
    "print(\"Test data:-\")\n",
    "cm = net.confmat(test,testt)"
   ]
  },
  {
   "cell_type": "code",
   "execution_count": 61,
   "metadata": {},
   "outputs": [
    {
     "data": {
      "text/plain": [
       "array([[161.,  22.],\n",
       "       [  6., 154.]])"
      ]
     },
     "execution_count": 61,
     "metadata": {},
     "output_type": "execute_result"
    }
   ],
   "source": [
    "cm"
   ]
  },
  {
   "cell_type": "code",
   "execution_count": 62,
   "metadata": {},
   "outputs": [
    {
     "data": {
      "image/png": "[encoded data removed]",
      "text/plain": [
       "<Figure size 720x504 with 2 Axes>"
      ]
     },
     "metadata": {},
     "output_type": "display_data"
    }
   ],
   "source": [
    "import seaborn as sn\n",
    "import pandas as pd\n",
    "import matplotlib.pyplot as plt\n",
    "\n",
    "cm = np.array(cm)\n",
    "df_cm = pd.DataFrame(cm)\n",
    "plt.figure(figsize=(10,7))\n",
    "sn.set(font_scale=1.4)  # for label size\n",
    "sn.heatmap(df_cm, annot=True, annot_kws={\"size\": 14})  # font size\n",
    "plt.show()"
   ]
  },
  {
   "cell_type": "code",
   "execution_count": 63,
   "metadata": {},
   "outputs": [
    {
     "name": "stdout",
     "output_type": "stream",
     "text": [
      "              precision    recall  f1-score   support\n",
      "\n",
      "           0       0.88      0.96      0.92       167\n",
      "           1       0.96      0.88      0.92       176\n",
      "\n",
      "    accuracy                           0.92       343\n",
      "   macro avg       0.92      0.92      0.92       343\n",
      "weighted avg       0.92      0.92      0.92       343\n",
      "\n"
     ]
    }
   ],
   "source": [
    "from sklearn.metrics import classification_report\n",
    "targets=testt\n",
    "inputs = test\n",
    "nClasses = np.shape(targets)[1]\n",
    "outputs = net.rbffwd(inputs)\n",
    "if nClasses==1:\n",
    "    nClasses = 2\n",
    "    outputs = np.where(outputs>0,1,0)\n",
    "else:\n",
    "    # 1-of-N encoding\n",
    "    outputs = np.argmax(outputs,1)\n",
    "    targets = np.argmax(targets,1)\n",
    "\n",
    "\n",
    "print(classification_report(targets, outputs))"
   ]
  }
 ],
 "metadata": {
  "interpreter": {
   "hash": "b3ba2566441a7c06988d0923437866b63cedc61552a5af99d1f4fb67d367b25f"
  },
  "kernelspec": {
   "display_name": "Python 3.8.8 64-bit ('base': conda)",
   "name": "python3"
  },
  "language_info": {
   "codemirror_mode": {
    "name": "ipython",
    "version": 3
   },
   "file_extension": ".py",
   "mimetype": "text/x-python",
   "name": "python",
   "nbconvert_exporter": "python",
   "pygments_lexer": "ipython3",
   "version": "3.8.8"
  },
  "orig_nbformat": 4
 },
 "nbformat": 4,
 "nbformat_minor": 2
}
