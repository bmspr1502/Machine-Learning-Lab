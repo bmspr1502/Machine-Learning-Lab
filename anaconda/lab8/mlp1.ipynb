{
 "cells": [
  {
   "cell_type": "code",
   "execution_count": 116,
   "metadata": {},
   "outputs": [],
   "source": [
    "import numpy as np\n",
    "def tanh(z):\n",
    "\treturn (np.exp(z) - np.exp(-z)) / (np.exp(z) + np.exp(-z))\n",
    "\n",
    "class mlp:\n",
    "    \"\"\"A Multi-Layer Perceptron\"\"\"\n",
    "\n",
    "    def __init__(\n",
    "        self, inputs, targets, nhidden, beta=1, momentum=0.9, outtype=\"logistic\"\n",
    "    ):\n",
    "        \"\"\"Constructor\"\"\"\n",
    "        self.nin = np.shape(inputs)[1]\n",
    "        self.nout = np.shape(targets)[1]\n",
    "        self.ndata = np.shape(inputs)[0]\n",
    "        self.nhidden = nhidden\n",
    "\n",
    "        self.beta = beta\n",
    "        self.momentum = momentum\n",
    "        self.outtype = outtype\n",
    "\n",
    "        # Initialise network\n",
    "        self.weights1 = (\n",
    "            (np.random.rand(self.nin + 1, self.nhidden) - 0.5) * 2 / np.sqrt(self.nin)\n",
    "        )\n",
    "        self.weights2 = (\n",
    "            (np.random.rand(self.nhidden + 1, self.nout) - 0.5)\n",
    "            * 2\n",
    "            / np.sqrt(self.nhidden)\n",
    "        )\n",
    "\n",
    "    def earlystopping(\n",
    "        self, inputs, targets, valid, validtargets, eta, niterations=10000\n",
    "    ):\n",
    "\n",
    "        valid = np.concatenate((valid, -np.ones((np.shape(valid)[0], 1))), axis=1)\n",
    "\n",
    "        old_val_error1 = 100002\n",
    "        old_val_error2 = 100001\n",
    "        new_val_error = 100000\n",
    "\n",
    "        print(\"No. of neurons in hidden layers = \", self.nhidden)\n",
    "        while ((old_val_error1 - new_val_error) > 0.001) or (\n",
    "            (old_val_error2 - old_val_error1) > 0.001\n",
    "        ):\n",
    "            self.mlptrain(inputs, targets, eta, niterations)\n",
    "            old_val_error2 = old_val_error1\n",
    "            old_val_error1 = new_val_error\n",
    "            validout = self.mlpfwd(valid)\n",
    "            new_val_error = 0.5 * np.sum((validtargets - validout) ** 2)\n",
    "\n",
    "        print(\"Stopped, error = \", new_val_error)\n",
    "        return new_val_error\n",
    "\n",
    "    def mlptrain(self, inputs, targets, eta, niterations):\n",
    "        \"\"\"Train the neural network\"\"\"\n",
    "        # Add the inputs that match the bias node\n",
    "        inputs = np.concatenate((inputs, -np.ones((self.ndata, 1))), axis=1)\n",
    "        change = range(self.ndata)\n",
    "\n",
    "        updatew1 = np.zeros((np.shape(self.weights1)))\n",
    "        updatew2 = np.zeros((np.shape(self.weights2)))\n",
    "\n",
    "        for n in range(niterations):\n",
    "\n",
    "            self.outputs = self.mlpfwd(inputs)\n",
    "\n",
    "            error = 0.5 * np.sum((self.outputs - targets) ** 2)\n",
    "\n",
    "            # Different types of output neurons and their activation functions\n",
    "            if self.outtype == \"linear\":\n",
    "                deltao = (self.outputs - targets) / self.ndata\n",
    "            elif self.outtype == \"logistic\":\n",
    "                deltao = (\n",
    "                    self.beta\n",
    "                    * (self.outputs - targets)\n",
    "                    * self.outputs\n",
    "                    * (1.0 - self.outputs)\n",
    "                )\n",
    "            elif self.outtype == \"softmax\":\n",
    "                deltao = (\n",
    "                    (self.outputs - targets)\n",
    "                    * (self.outputs * (-self.outputs) + self.outputs)\n",
    "                    / self.ndata\n",
    "                )\n",
    "            elif self.outtype == \"tanh\":\n",
    "                deltao = (\n",
    "                    (self.outputs - targets)\n",
    "                    * (1.0 - np.power(self.outputs, 2))\n",
    "                )\n",
    "            else:\n",
    "                print(\"error\")\n",
    "\n",
    "            # hidden network delta\n",
    "            deltah = (\n",
    "                self.hidden\n",
    "                * self.beta\n",
    "                * (1.0 - self.hidden)\n",
    "                * (np.dot(deltao, np.transpose(self.weights2)))\n",
    "            )\n",
    "\n",
    "            updatew1 = (\n",
    "                eta * (np.dot(np.transpose(inputs), deltah[:, :-1]))\n",
    "                + self.momentum * updatew1\n",
    "            )\n",
    "            updatew2 = (\n",
    "                eta * (np.dot(np.transpose(self.hidden), deltao))\n",
    "                + self.momentum * updatew2\n",
    "            )\n",
    "            self.weights1 -= updatew1\n",
    "            self.weights2 -= updatew2\n",
    "\n",
    "            return error\n",
    "\n",
    "    def mlpfwd(self, inputs):\n",
    "        \"\"\"Run the network forward\"\"\"\n",
    "\n",
    "        self.hidden = np.dot(inputs, self.weights1)\n",
    "        self.hidden = 1.0 / (1.0 + np.exp(-self.beta * self.hidden))\n",
    "        self.hidden = np.concatenate(\n",
    "            (self.hidden, -np.ones((np.shape(inputs)[0], 1))), axis=1\n",
    "        )\n",
    "\n",
    "        outputs = np.dot(self.hidden, self.weights2)\n",
    "\n",
    "        # Different types of output neurons\n",
    "        if self.outtype == \"linear\":\n",
    "            return outputs\n",
    "        elif self.outtype == \"logistic\":\n",
    "            return 1.0 / (1.0 + np.exp(-self.beta * outputs))\n",
    "        elif self.outtype == \"softmax\":\n",
    "            normalisers = np.sum(np.exp(outputs), axis=1) * np.ones(\n",
    "                (1, np.shape(outputs)[0])\n",
    "            )\n",
    "            return np.transpose(np.transpose(np.exp(outputs)) / normalisers)\n",
    "        elif self.outtype == \"tanh\":\n",
    "            return tanh(outputs)\n",
    "        else:\n",
    "            print(\"error\")\n",
    "\n",
    "    def confmat(self, inputs, targets):\n",
    "        \"\"\"Confusion matrix\"\"\"\n",
    "\n",
    "        # Add the inputs that match the bias node\n",
    "        inputs = np.concatenate((inputs, -np.ones((np.shape(inputs)[0], 1))), axis=1)\n",
    "        outputs = self.mlpfwd(inputs)\n",
    "\n",
    "        nclasses = np.shape(targets)[1]\n",
    "\n",
    "        if nclasses == 1:\n",
    "            nclasses = 2\n",
    "            outputs = np.where(outputs > 0.5, 1, 0)\n",
    "        else:\n",
    "            # 1-of-N encoding\n",
    "            outputs = np.argmax(outputs, 1)\n",
    "            targets = np.argmax(targets, 1)\n",
    "\n",
    "        cm = np.zeros((nclasses, nclasses))\n",
    "        for i in range(nclasses):\n",
    "            for j in range(nclasses):\n",
    "                cm[i, j] = np.sum(\n",
    "                    np.where(outputs == i, 1, 0) * np.where(targets == j, 1, 0)\n",
    "                )\n",
    "        output = cm\n",
    "        print(\"Percentage Correct: \", np.trace(cm) / np.sum(cm) * 100)\n",
    "        return output\n"
   ]
  },
  {
   "cell_type": "code",
   "execution_count": 117,
   "metadata": {},
   "outputs": [],
   "source": [
    "import seaborn as sn\n",
    "import pandas as pd\n",
    "import matplotlib.pyplot as plt\n",
    "def displayConfusionMatrix(cm, plt):\n",
    "    out_cm = np.array(cm)\n",
    "    df_cm = pd.DataFrame(out_cm)\n",
    "    plt.figure(figsize=(10,7))\n",
    "    sn.set(font_scale=1)  # for label size\n",
    "    sn.heatmap(df_cm, annot=True, annot_kws={\"size\": 14})  # font size\n",
    "        "
   ]
  },
  {
   "cell_type": "code",
   "execution_count": 118,
   "metadata": {},
   "outputs": [],
   "source": [
    "from sklearn.metrics import classification_report\n",
    "def printClassificationReport(network, test, testt):\n",
    "    targets=testt\n",
    "    inputs = np.concatenate((test, -np.ones((np.shape(test)[0], 1))), axis=1)\n",
    "    nclasses = np.shape(targets)[1]\n",
    "    output = network.mlpfwd(inputs)\n",
    "    if nclasses == 1:\n",
    "        nclasses = 2\n",
    "        output = np.where(output > 0.5, 1, 0)\n",
    "    else:\n",
    "        # 1-of-N encoding\n",
    "        output = np.argmax(output, 1)\n",
    "        targets = np.argmax(targets, 1)\n",
    "\n",
    "\n",
    "    print(classification_report(targets, output))"
   ]
  },
  {
   "cell_type": "markdown",
   "metadata": {},
   "source": [
    "# loading data"
   ]
  },
  {
   "cell_type": "code",
   "execution_count": 150,
   "metadata": {},
   "outputs": [],
   "source": [
    "#loading data\n",
    "dataset = np.loadtxt('diabetes.csv',delimiter=',')\n",
    "no_of_columns = 8\n",
    "#normalizing the input\n",
    "dataset[:,:no_of_columns] = dataset[:,:no_of_columns]-dataset[:,:no_of_columns].mean(axis=0)\n",
    "imax = np.concatenate((dataset.max(axis=0)\n",
    "        *np.ones((1,no_of_columns+1)),np.abs(dataset.min(axis=0)\n",
    "        *np.ones((1,no_of_columns+1)))),axis=0).max(axis=0)\n",
    "dataset[:,:no_of_columns] = dataset[:,:no_of_columns]/imax[:no_of_columns]"
   ]
  },
  {
   "cell_type": "code",
   "execution_count": 120,
   "metadata": {},
   "outputs": [
    {
     "name": "stdout",
     "output_type": "stream",
     "text": [
      "(768, 9)\n"
     ]
    }
   ],
   "source": [
    "print(dataset.shape)"
   ]
  },
  {
   "cell_type": "code",
   "execution_count": 121,
   "metadata": {},
   "outputs": [
    {
     "name": "stdout",
     "output_type": "stream",
     "text": [
      "[1.         0.64606288 0.64965237 1.         0.78334653 1.\n",
      " 1.         1.        ] [-0.29228942 -1.         -1.         -0.26173249 -0.1041496  -0.91127677\n",
      " -0.20218239 -0.2563047 ]\n"
     ]
    }
   ],
   "source": [
    "\n",
    "# Split into training, validation, and test sets\n",
    "target = np.zeros((np.shape(dataset)[0],2))\n",
    "indices = np.where(dataset[:,no_of_columns]==0) \n",
    "target[indices,0] = 1\n",
    "indices = np.where(dataset[:,no_of_columns]==1)\n",
    "target[indices,1] = 1\n",
    "\n",
    "# Randomly order the data\n",
    "order = np.arange(np.shape(dataset)[0])\n",
    "\n",
    "np.random.shuffle(order)\n",
    "dataset = dataset[order,:]\n",
    "target = target[order,:]\n",
    "\n",
    "train = dataset[::2,0:no_of_columns]\n",
    "traint = target[::2]\n",
    "valid = dataset[1::4,0:no_of_columns]\n",
    "validt = target[1::4]\n",
    "test = dataset[3::4,0:no_of_columns]\n",
    "testt = target[3::4]\n",
    "\n",
    "print (train.max(axis=0), train.min(axis=0))\n"
   ]
  },
  {
   "cell_type": "markdown",
   "metadata": {},
   "source": [
    "# Find the number of neurons\n",
    "## using sigmoid function"
   ]
  },
  {
   "cell_type": "code",
   "execution_count": 122,
   "metadata": {},
   "outputs": [
    {
     "name": "stdout",
     "output_type": "stream",
     "text": [
      "Using Sigmoid function\n",
      "No. of neurons in hidden layers =  1\n",
      "Stopped, error =  31.96408393423567\n",
      "Percentage Correct:  78.125\n",
      "No. of neurons in hidden layers =  2\n",
      "Stopped, error =  32.141457877281724\n",
      "Percentage Correct:  78.64583333333334\n",
      "No. of neurons in hidden layers =  3\n",
      "Stopped, error =  32.05194270972359\n",
      "Percentage Correct:  78.125\n",
      "No. of neurons in hidden layers =  4\n",
      "Stopped, error =  32.03907183671007\n",
      "Percentage Correct:  77.60416666666666\n",
      "No. of neurons in hidden layers =  5\n",
      "Stopped, error =  40.08901398288113\n",
      "Percentage Correct:  60.416666666666664\n",
      "No. of neurons in hidden layers =  6\n",
      "Stopped, error =  31.925990650243744\n",
      "Percentage Correct:  78.64583333333334\n",
      "No. of neurons in hidden layers =  7\n",
      "Stopped, error =  32.00489866495896\n",
      "Percentage Correct:  78.125\n",
      "No. of neurons in hidden layers =  8\n",
      "Stopped, error =  31.78464734045605\n",
      "Percentage Correct:  78.125\n",
      "No. of neurons in hidden layers =  9\n",
      "Stopped, error =  31.87656688028156\n",
      "Percentage Correct:  78.64583333333334\n",
      "No. of neurons in hidden layers =  10\n",
      "Stopped, error =  31.97481031535575\n",
      "Percentage Correct:  78.125\n",
      "No. of neurons in hidden layers =  11\n",
      "Stopped, error =  31.95413246801506\n",
      "Percentage Correct:  78.125\n",
      "No. of neurons in hidden layers =  12\n",
      "Stopped, error =  32.04986071567417\n",
      "Percentage Correct:  79.16666666666666\n",
      "No. of neurons in hidden layers =  13\n",
      "Stopped, error =  31.868966587908744\n",
      "Percentage Correct:  78.64583333333334\n",
      "No. of neurons in hidden layers =  14\n",
      "Stopped, error =  31.94432977040558\n",
      "Percentage Correct:  78.125\n",
      "No. of neurons in hidden layers =  15\n",
      "Stopped, error =  31.971609833398826\n",
      "Percentage Correct:  78.125\n",
      "No. of neurons in hidden layers =  16\n",
      "Stopped, error =  32.07078648605753\n",
      "Percentage Correct:  78.125\n",
      "No. of neurons in hidden layers =  17\n",
      "Stopped, error =  31.79136500246013\n",
      "Percentage Correct:  77.60416666666666\n",
      "No. of neurons in hidden layers =  18\n",
      "Stopped, error =  31.88033216716132\n",
      "Percentage Correct:  78.64583333333334\n",
      "No. of neurons in hidden layers =  19\n",
      "Stopped, error =  32.09392418845246\n",
      "Percentage Correct:  78.125\n",
      "No. of neurons in hidden layers =  20\n",
      "Stopped, error =  32.150352852388465\n",
      "Percentage Correct:  78.64583333333334\n",
      "No. of neurons in hidden layers =  21\n",
      "Stopped, error =  32.04884001492435\n",
      "Percentage Correct:  79.16666666666666\n",
      "No. of neurons in hidden layers =  22\n",
      "Stopped, error =  31.750524171136355\n",
      "Percentage Correct:  78.64583333333334\n",
      "No. of neurons in hidden layers =  23\n",
      "Stopped, error =  32.15569520357736\n",
      "Percentage Correct:  78.64583333333334\n",
      "No. of neurons in hidden layers =  24\n",
      "Stopped, error =  31.903645846665626\n",
      "Percentage Correct:  78.64583333333334\n",
      "No. of neurons in hidden layers =  25\n",
      "Stopped, error =  31.951785433559728\n",
      "Percentage Correct:  78.125\n",
      "No. of neurons in hidden layers =  26\n",
      "Stopped, error =  32.043099829880745\n",
      "Percentage Correct:  78.64583333333334\n",
      "No. of neurons in hidden layers =  27\n",
      "Stopped, error =  31.969294886182144\n",
      "Percentage Correct:  78.125\n",
      "No. of neurons in hidden layers =  28\n",
      "Stopped, error =  32.06085023733824\n",
      "Percentage Correct:  77.60416666666666\n",
      "No. of neurons in hidden layers =  29\n",
      "Stopped, error =  32.0316027235403\n",
      "Percentage Correct:  77.60416666666666\n",
      "No. of neurons in hidden layers =  30\n",
      "Stopped, error =  31.927826007042764\n",
      "Percentage Correct:  78.125\n"
     ]
    }
   ],
   "source": [
    "print(\"Using Sigmoid function\")\n",
    "acc = np.zeros(30)\n",
    "err = np.zeros(30)\n",
    "cm = []\n",
    "net = []\n",
    "for i in range(30):\n",
    "    net.append(mlp(train,traint,i+1, outtype='logistic'))\n",
    "    err[i] = net[i].earlystopping(train,traint,valid,validt,0.001)\n",
    "    #err = net.mlptrain(train, traint, 0.25, 10000)\n",
    "    cm.append(net[i].confmat(test,testt))\n",
    "    acc[i]= np.trace(cm[i]) / np.sum(cm[i]) * 100\n",
    "    "
   ]
  },
  {
   "cell_type": "code",
   "execution_count": 123,
   "metadata": {},
   "outputs": [
    {
     "data": {
      "image/png": "[encoded data removed]",
      "text/plain": [
       "<Figure size 432x288 with 1 Axes>"
      ]
     },
     "metadata": {},
     "output_type": "display_data"
    }
   ],
   "source": [
    "plt.xlabel(\"Number of neurons\") \n",
    "plt.ylabel(\"Accuracy\") \n",
    "plt.plot(acc, color='green')\n",
    "plt.show()"
   ]
  },
  {
   "cell_type": "code",
   "execution_count": 124,
   "metadata": {},
   "outputs": [
    {
     "data": {
      "image/png": "[encoded data removed]",
      "text/plain": [
       "<Figure size 432x288 with 1 Axes>"
      ]
     },
     "metadata": {},
     "output_type": "display_data"
    }
   ],
   "source": [
    "plt.xlabel(\"Number of neurons\") \n",
    "plt.ylabel(\"Error\") \n",
    "plt.plot(err, color='red')\n",
    "plt.show()"
   ]
  },
  {
   "cell_type": "code",
   "execution_count": 125,
   "metadata": {},
   "outputs": [
    {
     "name": "stdout",
     "output_type": "stream",
     "text": [
      "Number of neurons for maximum accuracy = 11\n",
      "Accuracy =  79.16666666666666\n"
     ]
    }
   ],
   "source": [
    "n = np.argmax(acc)\n",
    "print(\"Number of neurons for maximum accuracy =\", n)\n",
    "print(\"Accuracy = \", acc[n])"
   ]
  },
  {
   "cell_type": "code",
   "execution_count": 126,
   "metadata": {},
   "outputs": [
    {
     "data": {
      "text/plain": [
       "array([[101.,  25.],\n",
       "       [ 15.,  51.]])"
      ]
     },
     "execution_count": 126,
     "metadata": {},
     "output_type": "execute_result"
    }
   ],
   "source": [
    "cm[n]"
   ]
  },
  {
   "cell_type": "code",
   "execution_count": 127,
   "metadata": {},
   "outputs": [
    {
     "name": "stdout",
     "output_type": "stream",
     "text": [
      "Using sigmoid function\n"
     ]
    },
    {
     "data": {
      "image/png": "[encoded data removed]",
      "text/plain": [
       "<Figure size 720x504 with 2 Axes>"
      ]
     },
     "metadata": {},
     "output_type": "display_data"
    }
   ],
   "source": [
    "print(\"Using sigmoid function\")\n",
    "displayConfusionMatrix(cm[n],plt)\n",
    "plt.show()"
   ]
  },
  {
   "cell_type": "code",
   "execution_count": 128,
   "metadata": {},
   "outputs": [
    {
     "name": "stdout",
     "output_type": "stream",
     "text": [
      "Classification report using sigmoid activation function\n",
      "              precision    recall  f1-score   support\n",
      "\n",
      "           0       0.80      0.87      0.83       116\n",
      "           1       0.77      0.67      0.72        76\n",
      "\n",
      "    accuracy                           0.79       192\n",
      "   macro avg       0.79      0.77      0.78       192\n",
      "weighted avg       0.79      0.79      0.79       192\n",
      "\n"
     ]
    }
   ],
   "source": [
    "print(\"Classification report using sigmoid activation function\")\n",
    "printClassificationReport(net[n], test, testt)"
   ]
  },
  {
   "cell_type": "markdown",
   "metadata": {},
   "source": [
    "# softmax activation function"
   ]
  },
  {
   "cell_type": "code",
   "execution_count": 139,
   "metadata": {},
   "outputs": [
    {
     "name": "stdout",
     "output_type": "stream",
     "text": [
      "Using Softmax activation function\n",
      "No. of neurons in hidden layers =  11\n",
      "Stopped, error =  32.36775940519345\n",
      "Percentage Correct:  79.16666666666666\n"
     ]
    }
   ],
   "source": [
    "print(\"Using Softmax activation function\")\n",
    "softnet = mlp(train,traint,n, outtype='softmax')\n",
    "softnet.earlystopping(train,traint,valid,validt,0.25)\n",
    "softcm = softnet.confmat(test, testt)"
   ]
  },
  {
   "cell_type": "code",
   "execution_count": 140,
   "metadata": {},
   "outputs": [
    {
     "name": "stdout",
     "output_type": "stream",
     "text": [
      "Using softmax function\n"
     ]
    },
    {
     "data": {
      "image/png": "[encoded data removed]",
      "text/plain": [
       "<Figure size 720x504 with 2 Axes>"
      ]
     },
     "metadata": {},
     "output_type": "display_data"
    }
   ],
   "source": [
    "print(\"Using softmax function\")\n",
    "displayConfusionMatrix(softcm,plt)\n",
    "plt.show()"
   ]
  },
  {
   "cell_type": "code",
   "execution_count": 141,
   "metadata": {},
   "outputs": [
    {
     "name": "stdout",
     "output_type": "stream",
     "text": [
      "Classification report using Softmax activation function\n",
      "              precision    recall  f1-score   support\n",
      "\n",
      "           0       0.79      0.89      0.84       116\n",
      "           1       0.79      0.64      0.71        76\n",
      "\n",
      "    accuracy                           0.79       192\n",
      "   macro avg       0.79      0.77      0.77       192\n",
      "weighted avg       0.79      0.79      0.79       192\n",
      "\n"
     ]
    }
   ],
   "source": [
    "print(\"Classification report using Softmax activation function\")\n",
    "printClassificationReport(softnet, test, testt)"
   ]
  },
  {
   "cell_type": "markdown",
   "metadata": {},
   "source": [
    "# Linear activation function "
   ]
  },
  {
   "cell_type": "code",
   "execution_count": 132,
   "metadata": {},
   "outputs": [
    {
     "name": "stdout",
     "output_type": "stream",
     "text": [
      "Using Linear activation function\n",
      "No. of neurons in hidden layers =  11\n",
      "Stopped, error =  32.38248436034704\n",
      "Percentage Correct:  77.60416666666666\n"
     ]
    }
   ],
   "source": [
    "print(\"Using Linear activation function\")\n",
    "signet = mlp(train,traint,n, outtype='linear')\n",
    "signet.earlystopping(train,traint,valid,validt,0.25)\n",
    "sigcm = signet.confmat(test, testt)"
   ]
  },
  {
   "cell_type": "code",
   "execution_count": 133,
   "metadata": {},
   "outputs": [
    {
     "name": "stdout",
     "output_type": "stream",
     "text": [
      "Using linear activation function\n"
     ]
    },
    {
     "data": {
      "image/png": "[encoded data removed]",
      "text/plain": [
       "<Figure size 720x504 with 2 Axes>"
      ]
     },
     "metadata": {},
     "output_type": "display_data"
    }
   ],
   "source": [
    "print(\"Using linear activation function\")\n",
    "displayConfusionMatrix(sigcm,plt)\n",
    "plt.show()"
   ]
  },
  {
   "cell_type": "code",
   "execution_count": 134,
   "metadata": {},
   "outputs": [
    {
     "name": "stdout",
     "output_type": "stream",
     "text": [
      "Classification report using linear activation function\n",
      "              precision    recall  f1-score   support\n",
      "\n",
      "           0       0.79      0.86      0.82       116\n",
      "           1       0.75      0.64      0.70        76\n",
      "\n",
      "    accuracy                           0.78       192\n",
      "   macro avg       0.77      0.75      0.76       192\n",
      "weighted avg       0.77      0.78      0.77       192\n",
      "\n"
     ]
    }
   ],
   "source": [
    "print(\"Classification report using linear activation function\")\n",
    "printClassificationReport(signet, test, testt)"
   ]
  },
  {
   "cell_type": "markdown",
   "metadata": {},
   "source": [
    "# Tanh activation function "
   ]
  },
  {
   "cell_type": "code",
   "execution_count": 147,
   "metadata": {},
   "outputs": [
    {
     "name": "stdout",
     "output_type": "stream",
     "text": [
      "Using tanh activation function\n",
      "No. of neurons in hidden layers =  11\n",
      "Stopped, error =  33.152478697860715\n",
      "Percentage Correct:  76.04166666666666\n"
     ]
    }
   ],
   "source": [
    "print(\"Using tanh activation function\")\n",
    "tanhnet = mlp(train,traint,n, outtype='tanh')\n",
    "#tanhnet.mlptrain(train, traint, 0.25, 20000)\n",
    "tanhnet.earlystopping(train,traint,valid,validt,0.0001)\n",
    "tanhcm = tanhnet.confmat(test, testt)"
   ]
  },
  {
   "cell_type": "code",
   "execution_count": 148,
   "metadata": {},
   "outputs": [
    {
     "name": "stdout",
     "output_type": "stream",
     "text": [
      "Using tanh activation function\n"
     ]
    },
    {
     "data": {
      "image/png": "[encoded data removed]",
      "text/plain": [
       "<Figure size 720x504 with 2 Axes>"
      ]
     },
     "metadata": {},
     "output_type": "display_data"
    }
   ],
   "source": [
    "print(\"Using tanh activation function\")\n",
    "displayConfusionMatrix(tanhcm,plt)\n",
    "plt.show()"
   ]
  },
  {
   "cell_type": "code",
   "execution_count": 149,
   "metadata": {},
   "outputs": [
    {
     "name": "stdout",
     "output_type": "stream",
     "text": [
      "Classification report using tanh activation function\n",
      "              precision    recall  f1-score   support\n",
      "\n",
      "           0       0.75      0.90      0.82       116\n",
      "           1       0.78      0.55      0.65        76\n",
      "\n",
      "    accuracy                           0.76       192\n",
      "   macro avg       0.77      0.72      0.73       192\n",
      "weighted avg       0.76      0.76      0.75       192\n",
      "\n"
     ]
    }
   ],
   "source": [
    "print(\"Classification report using tanh activation function\")\n",
    "printClassificationReport(tanhnet, test, testt)"
   ]
  }
 ],
 "metadata": {
  "interpreter": {
   "hash": "b3ba2566441a7c06988d0923437866b63cedc61552a5af99d1f4fb67d367b25f"
  },
  "kernelspec": {
   "display_name": "Python 3.8.8 64-bit ('base': conda)",
   "name": "python3"
  },
  "language_info": {
   "codemirror_mode": {
    "name": "ipython",
    "version": 3
   },
   "file_extension": ".py",
   "mimetype": "text/x-python",
   "name": "python",
   "nbconvert_exporter": "python",
   "pygments_lexer": "ipython3",
   "version": "3.8.8"
  },
  "orig_nbformat": 4
 },
 "nbformat": 4,
 "nbformat_minor": 2
}
