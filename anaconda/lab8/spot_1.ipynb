{
 "cells": [
  {
   "cell_type": "code",
   "execution_count": 26,
   "metadata": {},
   "outputs": [],
   "source": [
    "import numpy as np\n",
    "def tanh(z):\n",
    "\treturn (np.exp(z) - np.exp(-z)) / (np.exp(z) + np.exp(-z))\n",
    "\n",
    "class mlp:\n",
    "    \"\"\"A Multi-Layer Perceptron\"\"\"\n",
    "\n",
    "    def __init__(\n",
    "        self, inputs, targets, nhidden, beta=1, momentum=0.9, outtype=\"logistic\"\n",
    "    ):\n",
    "        \"\"\"Constructor\"\"\"\n",
    "        self.nin = np.shape(inputs)[1]\n",
    "        self.nout = np.shape(targets)[1]\n",
    "        self.ndata = np.shape(inputs)[0]\n",
    "        self.nhidden = nhidden\n",
    "\n",
    "        self.beta = beta\n",
    "        self.momentum = momentum\n",
    "        self.outtype = outtype\n",
    "\n",
    "        # Initialise network\n",
    "        self.weights1 = (\n",
    "            (np.random.rand(self.nin + 1, self.nhidden) - 0.5) * 2 / np.sqrt(self.nin)\n",
    "        )\n",
    "        self.weights2 = (\n",
    "            (np.random.rand(self.nhidden + 1, self.nout) - 0.5)\n",
    "            * 2\n",
    "            / np.sqrt(self.nhidden)\n",
    "        )\n",
    "\n",
    "    def earlystopping(\n",
    "        self, inputs, targets, valid, validtargets, eta, niterations=10000\n",
    "    ):\n",
    "\n",
    "        valid = np.concatenate((valid, -np.ones((np.shape(valid)[0], 1))), axis=1)\n",
    "\n",
    "        old_val_error1 = 100002\n",
    "        old_val_error2 = 100001\n",
    "        new_val_error = 100000\n",
    "\n",
    "        print(\"No. of neurons in hidden layers = \", self.nhidden)\n",
    "        while ((old_val_error1 - new_val_error) > 0.001) or (\n",
    "            (old_val_error2 - old_val_error1) > 0.001\n",
    "        ):\n",
    "            self.mlptrain(inputs, targets, eta, niterations)\n",
    "            old_val_error2 = old_val_error1\n",
    "            old_val_error1 = new_val_error\n",
    "            validout = self.mlpfwd(valid)\n",
    "            new_val_error = 0.5 * np.sum((validtargets - validout) ** 2)\n",
    "\n",
    "        print(\"Stopped, error = \", new_val_error)\n",
    "        return new_val_error\n",
    "\n",
    "    def mlptrain(self, inputs, targets, eta, niterations):\n",
    "        \"\"\"Train the neural network\"\"\"\n",
    "        # Add the inputs that match the bias node\n",
    "        inputs = np.concatenate((inputs, -np.ones((self.ndata, 1))), axis=1)\n",
    "        change = range(self.ndata)\n",
    "\n",
    "        updatew1 = np.zeros((np.shape(self.weights1)))\n",
    "        updatew2 = np.zeros((np.shape(self.weights2)))\n",
    "\n",
    "        for n in range(niterations):\n",
    "\n",
    "            self.outputs = self.mlpfwd(inputs)\n",
    "\n",
    "            error = 0.5 * np.sum((self.outputs - targets) ** 2)\n",
    "\n",
    "            # Different types of output neurons and their activation functions\n",
    "            if self.outtype == \"linear\":\n",
    "                deltao = (self.outputs - targets) / self.ndata\n",
    "            elif self.outtype == \"logistic\":\n",
    "                deltao = (\n",
    "                    self.beta\n",
    "                    * (self.outputs - targets)\n",
    "                    * self.outputs\n",
    "                    * (1.0 - self.outputs)\n",
    "                )\n",
    "            elif self.outtype == \"softmax\":\n",
    "                deltao = (\n",
    "                    (self.outputs - targets)\n",
    "                    * (self.outputs * (-self.outputs) + self.outputs)\n",
    "                    / self.ndata\n",
    "                )\n",
    "            elif self.outtype == \"tanh\":\n",
    "                deltao = (\n",
    "                    (self.outputs - targets)\n",
    "                    * (1.0 - np.power(self.outputs, 2))\n",
    "                )\n",
    "            else:\n",
    "                print(\"error\")\n",
    "\n",
    "            # hidden network delta\n",
    "            deltah = (\n",
    "                self.hidden\n",
    "                * self.beta\n",
    "                * (1.0 - self.hidden)\n",
    "                * (np.dot(deltao, np.transpose(self.weights2)))\n",
    "            )\n",
    "\n",
    "            updatew1 = (\n",
    "                eta * (np.dot(np.transpose(inputs), deltah[:, :-1]))\n",
    "                + self.momentum * updatew1\n",
    "            )\n",
    "            updatew2 = (\n",
    "                eta * (np.dot(np.transpose(self.hidden), deltao))\n",
    "                + self.momentum * updatew2\n",
    "            )\n",
    "            self.weights1 -= updatew1\n",
    "            self.weights2 -= updatew2\n",
    "\n",
    "            return error\n",
    "\n",
    "    def mlpfwd(self, inputs):\n",
    "        \"\"\"Run the network forward\"\"\"\n",
    "\n",
    "        self.hidden = np.dot(inputs, self.weights1)\n",
    "        self.hidden = 1.0 / (1.0 + np.exp(-self.beta * self.hidden))\n",
    "        self.hidden = np.concatenate(\n",
    "            (self.hidden, -np.ones((np.shape(inputs)[0], 1))), axis=1\n",
    "        )\n",
    "\n",
    "        outputs = np.dot(self.hidden, self.weights2)\n",
    "\n",
    "        # Different types of output neurons\n",
    "        if self.outtype == \"linear\":\n",
    "            return outputs\n",
    "        elif self.outtype == \"logistic\":\n",
    "            return 1.0 / (1.0 + np.exp(-self.beta * outputs))\n",
    "        elif self.outtype == \"softmax\":\n",
    "            normalisers = np.sum(np.exp(outputs), axis=1) * np.ones(\n",
    "                (1, np.shape(outputs)[0])\n",
    "            )\n",
    "            return np.transpose(np.transpose(np.exp(outputs)) / normalisers)\n",
    "        elif self.outtype == \"tanh\":\n",
    "            return tanh(outputs)\n",
    "        else:\n",
    "            print(\"error\")\n",
    "\n",
    "    def confmat(self, inputs, targets):\n",
    "        \"\"\"Confusion matrix\"\"\"\n",
    "\n",
    "        # Add the inputs that match the bias node\n",
    "        inputs = np.concatenate((inputs, -np.ones((np.shape(inputs)[0], 1))), axis=1)\n",
    "        outputs = self.mlpfwd(inputs)\n",
    "\n",
    "        nclasses = np.shape(targets)[1]\n",
    "\n",
    "        if nclasses == 1:\n",
    "            nclasses = 2\n",
    "            outputs = np.where(outputs > 0.5, 1, 0)\n",
    "        else:\n",
    "            # 1-of-N encoding\n",
    "            outputs = np.argmax(outputs, 1)\n",
    "            targets = np.argmax(targets, 1)\n",
    "\n",
    "        cm = np.zeros((nclasses, nclasses))\n",
    "        for i in range(nclasses):\n",
    "            for j in range(nclasses):\n",
    "                cm[i, j] = np.sum(\n",
    "                    np.where(outputs == i, 1, 0) * np.where(targets == j, 1, 0)\n",
    "                )\n",
    "        output = cm\n",
    "        print(\"Percentage Correct: \", np.trace(cm) / np.sum(cm) * 100)\n",
    "        return output\n"
   ]
  },
  {
   "cell_type": "code",
   "execution_count": 27,
   "metadata": {},
   "outputs": [],
   "source": [
    "import seaborn as sn\n",
    "import pandas as pd\n",
    "import matplotlib.pyplot as plt\n",
    "def displayConfusionMatrix(cm, plt):\n",
    "    out_cm = np.array(cm)\n",
    "    df_cm = pd.DataFrame(out_cm)\n",
    "    plt.figure(figsize=(10,7))\n",
    "    sn.set(font_scale=1)  # for label size\n",
    "    sn.heatmap(df_cm, annot=True, annot_kws={\"size\": 14})  # font size\n",
    "        "
   ]
  },
  {
   "cell_type": "code",
   "execution_count": 28,
   "metadata": {},
   "outputs": [],
   "source": [
    "from sklearn.metrics import classification_report\n",
    "def printClassificationReport(network, test, testt):\n",
    "    targets=testt\n",
    "    inputs = np.concatenate((test, -np.ones((np.shape(test)[0], 1))), axis=1)\n",
    "    nclasses = np.shape(targets)[1]\n",
    "    output = network.mlpfwd(inputs)\n",
    "    if nclasses == 1:\n",
    "        nclasses = 2\n",
    "        output = np.where(output > 0.5, 1, 0)\n",
    "    else:\n",
    "        # 1-of-N encoding\n",
    "        output = np.argmax(output, 1)\n",
    "        targets = np.argmax(targets, 1)\n",
    "\n",
    "\n",
    "    print(classification_report(targets, output))"
   ]
  },
  {
   "cell_type": "markdown",
   "metadata": {},
   "source": [
    "# loading data"
   ]
  },
  {
   "cell_type": "code",
   "execution_count": 93,
   "metadata": {},
   "outputs": [],
   "source": [
    "#loading data\n",
    "dataset = np.loadtxt('glass.conv.csv',delimiter=',')\n",
    "no_of_columns = 9\n",
    "#normalizing the input\n",
    "dataset[:,:no_of_columns] = dataset[:,:no_of_columns]-dataset[:,:no_of_columns].mean(axis=0)\n",
    "imax = np.concatenate((dataset.max(axis=0)\n",
    "        *np.ones((1,no_of_columns+1)),np.abs(dataset.min(axis=0)\n",
    "        *np.ones((1,no_of_columns+1)))),axis=0).max(axis=0)\n",
    "dataset[:,:no_of_columns] = dataset[:,:no_of_columns]/imax[:no_of_columns]"
   ]
  },
  {
   "cell_type": "code",
   "execution_count": 94,
   "metadata": {},
   "outputs": [
    {
     "name": "stdout",
     "output_type": "stream",
     "text": [
      "(214, 10)\n"
     ]
    }
   ],
   "source": [
    "print(dataset.shape)"
   ]
  },
  {
   "cell_type": "code",
   "execution_count": 95,
   "metadata": {},
   "outputs": [],
   "source": [
    "\n",
    "# Split into training, validation, and test sets\n",
    "target = np.zeros((np.shape(dataset)[0],7))\n",
    "indices = np.where(dataset[:,no_of_columns]==0) \n",
    "target[indices,0] = 1\n",
    "indices = np.where(dataset[:,no_of_columns]==1)\n",
    "target[indices,1] = 1\n",
    "indices = np.where(dataset[:,no_of_columns]==2) \n",
    "target[indices,2] = 1\n",
    "indices = np.where(dataset[:,no_of_columns]==3)\n",
    "target[indices,3] = 1\n",
    "indices = np.where(dataset[:,no_of_columns]==4) \n",
    "target[indices,4] = 1\n",
    "indices = np.where(dataset[:,no_of_columns]==5)\n",
    "target[indices,5] = 1\n",
    "indices = np.where(dataset[:,no_of_columns]==6) \n",
    "target[indices,6] = 1\n"
   ]
  },
  {
   "cell_type": "code",
   "execution_count": 96,
   "metadata": {},
   "outputs": [
    {
     "name": "stdout",
     "output_type": "stream",
     "text": [
      "[0.60422959 0.59971295 0.4527668  1.         0.89022304 1.\n",
      " 0.82994696 0.68066725 0.62471632] [-0.45329979 -0.60114818 -1.         -0.45492167 -0.97184025 -0.08700524\n",
      " -0.48761847 -0.05884016 -0.12585104]\n"
     ]
    }
   ],
   "source": [
    "# Randomly order the data\n",
    "order = np.arange(np.shape(dataset)[0])\n",
    "\n",
    "np.random.shuffle(order)\n",
    "dataset = dataset[order,:]\n",
    "target = target[order,:]\n",
    "\n",
    "train = dataset[::2,0:no_of_columns]\n",
    "traint = target[::2]\n",
    "valid = dataset[1::4,0:no_of_columns]\n",
    "validt = target[1::4]\n",
    "test = dataset[3::4,0:no_of_columns]\n",
    "testt = target[3::4]\n",
    "\n",
    "print (train.max(axis=0), train.min(axis=0))"
   ]
  },
  {
   "cell_type": "markdown",
   "metadata": {},
   "source": [
    "# Find the number of neurons\n",
    "## using sigmoid function"
   ]
  },
  {
   "cell_type": "code",
   "execution_count": 114,
   "metadata": {},
   "outputs": [
    {
     "name": "stdout",
     "output_type": "stream",
     "text": [
      "Using Sigmoid function\n",
      "No. of neurons in hidden layers =  1\n",
      "Stopped, error =  14.84916789098454\n",
      "Percentage Correct:  52.83018867924528\n",
      "No. of neurons in hidden layers =  2\n",
      "Stopped, error =  13.056349942005875\n",
      "Percentage Correct:  50.943396226415096\n",
      "No. of neurons in hidden layers =  3\n",
      "Stopped, error =  13.676924693348425\n",
      "Percentage Correct:  49.056603773584904\n",
      "No. of neurons in hidden layers =  4\n",
      "Stopped, error =  13.588436058927435\n",
      "Percentage Correct:  47.16981132075472\n",
      "No. of neurons in hidden layers =  5\n",
      "Stopped, error =  13.674527875316768\n",
      "Percentage Correct:  47.16981132075472\n",
      "No. of neurons in hidden layers =  6\n",
      "Stopped, error =  13.775856919727751\n",
      "Percentage Correct:  47.16981132075472\n",
      "No. of neurons in hidden layers =  7\n",
      "Stopped, error =  13.39197740614874\n",
      "Percentage Correct:  50.943396226415096\n",
      "No. of neurons in hidden layers =  8\n",
      "Stopped, error =  13.494152797905908\n",
      "Percentage Correct:  49.056603773584904\n",
      "No. of neurons in hidden layers =  9\n",
      "Stopped, error =  11.26947097566119\n",
      "Percentage Correct:  49.056603773584904\n",
      "No. of neurons in hidden layers =  10\n",
      "Stopped, error =  12.290156055696503\n",
      "Percentage Correct:  50.943396226415096\n",
      "No. of neurons in hidden layers =  11\n",
      "Stopped, error =  10.905831119897115\n",
      "Percentage Correct:  56.60377358490566\n",
      "No. of neurons in hidden layers =  12\n",
      "Stopped, error =  11.289790395426348\n",
      "Percentage Correct:  45.28301886792453\n",
      "No. of neurons in hidden layers =  13\n",
      "Stopped, error =  12.143617435688085\n",
      "Percentage Correct:  64.15094339622641\n",
      "No. of neurons in hidden layers =  14\n",
      "Stopped, error =  11.7267568793755\n",
      "Percentage Correct:  58.490566037735846\n",
      "No. of neurons in hidden layers =  15\n",
      "Stopped, error =  21.168584702771966\n",
      "Percentage Correct:  35.84905660377358\n",
      "No. of neurons in hidden layers =  16\n",
      "Stopped, error =  10.89552964544544\n",
      "Percentage Correct:  49.056603773584904\n",
      "No. of neurons in hidden layers =  17\n",
      "Stopped, error =  10.325812996976563\n",
      "Percentage Correct:  54.71698113207547\n",
      "No. of neurons in hidden layers =  18\n",
      "Stopped, error =  21.202036088680714\n",
      "Percentage Correct:  37.735849056603776\n",
      "No. of neurons in hidden layers =  19\n",
      "Stopped, error =  21.7350741714357\n",
      "Percentage Correct:  35.84905660377358\n",
      "No. of neurons in hidden layers =  20\n",
      "Stopped, error =  21.340468394502746\n",
      "Percentage Correct:  35.84905660377358\n",
      "No. of neurons in hidden layers =  21\n",
      "Stopped, error =  22.49206791136882\n",
      "Percentage Correct:  37.735849056603776\n",
      "No. of neurons in hidden layers =  22\n",
      "Stopped, error =  24.415362441682756\n",
      "Percentage Correct:  37.735849056603776\n",
      "No. of neurons in hidden layers =  23\n",
      "Stopped, error =  23.864383633362422\n",
      "Percentage Correct:  37.735849056603776\n",
      "No. of neurons in hidden layers =  24\n",
      "Stopped, error =  23.023142375094473\n",
      "Percentage Correct:  37.735849056603776\n",
      "No. of neurons in hidden layers =  25\n",
      "Stopped, error =  23.949648357345886\n",
      "Percentage Correct:  35.84905660377358\n",
      "No. of neurons in hidden layers =  26\n",
      "Stopped, error =  24.548570185991533\n",
      "Percentage Correct:  35.84905660377358\n",
      "No. of neurons in hidden layers =  27\n",
      "Stopped, error =  22.134721344100623\n",
      "Percentage Correct:  35.84905660377358\n",
      "No. of neurons in hidden layers =  28\n",
      "Stopped, error =  25.327286113035836\n",
      "Percentage Correct:  37.735849056603776\n",
      "No. of neurons in hidden layers =  29\n",
      "Stopped, error =  25.17502681163903\n",
      "Percentage Correct:  39.62264150943396\n",
      "No. of neurons in hidden layers =  30\n",
      "Stopped, error =  25.651264876189984\n",
      "Percentage Correct:  35.84905660377358\n",
      "No. of neurons in hidden layers =  31\n",
      "Stopped, error =  26.835269409304402\n",
      "Percentage Correct:  35.84905660377358\n",
      "No. of neurons in hidden layers =  32\n",
      "Stopped, error =  26.29210107168545\n",
      "Percentage Correct:  37.735849056603776\n",
      "No. of neurons in hidden layers =  33\n",
      "Stopped, error =  26.926244337147118\n",
      "Percentage Correct:  39.62264150943396\n",
      "No. of neurons in hidden layers =  34\n",
      "Stopped, error =  26.48730270287035\n",
      "Percentage Correct:  37.735849056603776\n",
      "No. of neurons in hidden layers =  35\n",
      "Stopped, error =  26.809641127748893\n",
      "Percentage Correct:  37.735849056603776\n",
      "No. of neurons in hidden layers =  36\n",
      "Stopped, error =  26.852430603755522\n",
      "Percentage Correct:  37.735849056603776\n",
      "No. of neurons in hidden layers =  37\n",
      "Stopped, error =  26.24853700087914\n",
      "Percentage Correct:  37.735849056603776\n",
      "No. of neurons in hidden layers =  38\n",
      "Stopped, error =  26.975639847555918\n",
      "Percentage Correct:  35.84905660377358\n",
      "No. of neurons in hidden layers =  39\n",
      "Stopped, error =  26.880045939218714\n",
      "Percentage Correct:  37.735849056603776\n",
      "No. of neurons in hidden layers =  40\n",
      "Stopped, error =  27.203398135760914\n",
      "Percentage Correct:  35.84905660377358\n",
      "No. of neurons in hidden layers =  41\n",
      "Stopped, error =  26.953699710247022\n",
      "Percentage Correct:  37.735849056603776\n",
      "No. of neurons in hidden layers =  42\n",
      "Stopped, error =  26.980667516990707\n",
      "Percentage Correct:  35.84905660377358\n",
      "No. of neurons in hidden layers =  43\n",
      "Stopped, error =  26.972171094907445\n",
      "Percentage Correct:  37.735849056603776\n",
      "No. of neurons in hidden layers =  44\n",
      "Stopped, error =  29.460030738852687\n",
      "Percentage Correct:  37.735849056603776\n",
      "No. of neurons in hidden layers =  45\n",
      "Stopped, error =  26.985751961224853\n",
      "Percentage Correct:  35.84905660377358\n",
      "No. of neurons in hidden layers =  46\n",
      "Stopped, error =  26.990642437819687\n",
      "Percentage Correct:  39.62264150943396\n",
      "No. of neurons in hidden layers =  47\n",
      "Stopped, error =  26.968582466118608\n",
      "Percentage Correct:  35.84905660377358\n",
      "No. of neurons in hidden layers =  48\n",
      "Stopped, error =  27.72592500050472\n",
      "Percentage Correct:  37.735849056603776\n",
      "No. of neurons in hidden layers =  49\n",
      "Stopped, error =  26.983956968813768\n",
      "Percentage Correct:  37.735849056603776\n",
      "No. of neurons in hidden layers =  50\n",
      "Stopped, error =  24.183440111677122\n",
      "Percentage Correct:  35.84905660377358\n"
     ]
    }
   ],
   "source": [
    "print(\"Using Sigmoid function\")\n",
    "acc = np.zeros(50)\n",
    "err = np.zeros(50)\n",
    "cm = []\n",
    "net = []\n",
    "for i in range(50):\n",
    "    net.append(mlp(train,traint,i+1, outtype='logistic'))\n",
    "    err[i] = net[i].earlystopping(train,traint,valid,validt,0.1)\n",
    "    #err = net.mlptrain(train, traint, 0.25, 10000)\n",
    "    cm.append(net[i].confmat(test,testt))\n",
    "    acc[i]= np.trace(cm[i]) / np.sum(cm[i]) * 100\n",
    "    "
   ]
  },
  {
   "cell_type": "code",
   "execution_count": 115,
   "metadata": {},
   "outputs": [
    {
     "data": {
      "image/png": "[encoded data removed]",
      "text/plain": [
       "<Figure size 432x288 with 1 Axes>"
      ]
     },
     "metadata": {},
     "output_type": "display_data"
    }
   ],
   "source": [
    "plt.xlabel(\"Number of neurons\") \n",
    "plt.ylabel(\"Accuracy\") \n",
    "plt.plot(acc, color='green')\n",
    "plt.show()"
   ]
  },
  {
   "cell_type": "code",
   "execution_count": 116,
   "metadata": {},
   "outputs": [
    {
     "data": {
      "image/png": "[encoded data removed]",
      "text/plain": [
       "<Figure size 432x288 with 1 Axes>"
      ]
     },
     "metadata": {},
     "output_type": "display_data"
    }
   ],
   "source": [
    "plt.xlabel(\"Number of neurons\") \n",
    "plt.ylabel(\"Error\") \n",
    "plt.plot(err, color='red')\n",
    "plt.show()"
   ]
  },
  {
   "cell_type": "code",
   "execution_count": 117,
   "metadata": {},
   "outputs": [
    {
     "name": "stdout",
     "output_type": "stream",
     "text": [
      "Number of neurons for maximum accuracy = 12\n",
      "Accuracy =  64.15094339622641\n"
     ]
    }
   ],
   "source": [
    "n = np.argmax(acc)\n",
    "print(\"Number of neurons for maximum accuracy =\", n)\n",
    "print(\"Accuracy = \", acc[n])"
   ]
  },
  {
   "cell_type": "code",
   "execution_count": 118,
   "metadata": {},
   "outputs": [
    {
     "data": {
      "text/plain": [
       "array([[14.,  4.,  1.,  0.,  0.,  2.,  0.],\n",
       "       [ 4., 14.,  3.,  0.,  1.,  1.,  0.],\n",
       "       [ 2.,  0.,  2.,  0.,  0.,  0.,  0.],\n",
       "       [ 0.,  0.,  0.,  0.,  0.,  0.,  0.],\n",
       "       [ 0.,  1.,  0.,  0.,  1.,  0.,  0.],\n",
       "       [ 0.,  0.,  0.,  0.,  0.,  0.,  0.],\n",
       "       [ 0.,  0.,  0.,  0.,  0.,  0.,  3.]])"
      ]
     },
     "execution_count": 118,
     "metadata": {},
     "output_type": "execute_result"
    }
   ],
   "source": [
    "cm[n]"
   ]
  },
  {
   "cell_type": "code",
   "execution_count": 119,
   "metadata": {},
   "outputs": [
    {
     "name": "stdout",
     "output_type": "stream",
     "text": [
      "Using sigmoid function\n"
     ]
    },
    {
     "data": {
      "image/png": "[encoded data removed]",
      "text/plain": [
       "<Figure size 720x504 with 2 Axes>"
      ]
     },
     "metadata": {},
     "output_type": "display_data"
    }
   ],
   "source": [
    "print(\"Using sigmoid function\")\n",
    "displayConfusionMatrix(cm[n],plt)\n",
    "plt.show()"
   ]
  },
  {
   "cell_type": "code",
   "execution_count": 120,
   "metadata": {},
   "outputs": [
    {
     "name": "stdout",
     "output_type": "stream",
     "text": [
      "Classification report using sigmoid activation function\n",
      "              precision    recall  f1-score   support\n",
      "\n",
      "           0       0.67      0.70      0.68        20\n",
      "           1       0.61      0.74      0.67        19\n",
      "           2       0.50      0.33      0.40         6\n",
      "           4       0.50      0.50      0.50         2\n",
      "           5       0.00      0.00      0.00         3\n",
      "           6       1.00      1.00      1.00         3\n",
      "\n",
      "    accuracy                           0.64        53\n",
      "   macro avg       0.55      0.55      0.54        53\n",
      "weighted avg       0.60      0.64      0.62        53\n",
      "\n"
     ]
    },
    {
     "name": "stderr",
     "output_type": "stream",
     "text": [
      "C:\\ProgramData\\Anaconda3\\lib\\site-packages\\sklearn\\metrics\\_classification.py:1245: UndefinedMetricWarning: Precision and F-score are ill-defined and being set to 0.0 in labels with no predicted samples. Use `zero_division` parameter to control this behavior.\n",
      "  _warn_prf(average, modifier, msg_start, len(result))\n",
      "C:\\ProgramData\\Anaconda3\\lib\\site-packages\\sklearn\\metrics\\_classification.py:1245: UndefinedMetricWarning: Precision and F-score are ill-defined and being set to 0.0 in labels with no predicted samples. Use `zero_division` parameter to control this behavior.\n",
      "  _warn_prf(average, modifier, msg_start, len(result))\n",
      "C:\\ProgramData\\Anaconda3\\lib\\site-packages\\sklearn\\metrics\\_classification.py:1245: UndefinedMetricWarning: Precision and F-score are ill-defined and being set to 0.0 in labels with no predicted samples. Use `zero_division` parameter to control this behavior.\n",
      "  _warn_prf(average, modifier, msg_start, len(result))\n"
     ]
    }
   ],
   "source": [
    "print(\"Classification report using sigmoid activation function\")\n",
    "printClassificationReport(net[n], test, testt)"
   ]
  },
  {
   "cell_type": "markdown",
   "metadata": {},
   "source": [
    "# softmax activation function"
   ]
  },
  {
   "cell_type": "code",
   "execution_count": 144,
   "metadata": {},
   "outputs": [
    {
     "name": "stdout",
     "output_type": "stream",
     "text": [
      "Using Softmax activation function\n",
      "No. of neurons in hidden layers =  12\n",
      "Stopped, error =  15.30869622180197\n",
      "Percentage Correct:  49.056603773584904\n"
     ]
    }
   ],
   "source": [
    "print(\"Using Softmax activation function\")\n",
    "softnet = mlp(train,traint,n, outtype='softmax')\n",
    "softnet.earlystopping(train,traint,valid,validt,0.15)\n",
    "softcm = softnet.confmat(test, testt)"
   ]
  },
  {
   "cell_type": "code",
   "execution_count": 145,
   "metadata": {},
   "outputs": [
    {
     "name": "stdout",
     "output_type": "stream",
     "text": [
      "Using softmax function\n"
     ]
    },
    {
     "data": {
      "image/png": "[encoded data removed]",
      "text/plain": [
       "<Figure size 720x504 with 2 Axes>"
      ]
     },
     "metadata": {},
     "output_type": "display_data"
    }
   ],
   "source": [
    "print(\"Using softmax function\")\n",
    "displayConfusionMatrix(softcm,plt)\n",
    "plt.show()"
   ]
  },
  {
   "cell_type": "code",
   "execution_count": 146,
   "metadata": {},
   "outputs": [
    {
     "name": "stdout",
     "output_type": "stream",
     "text": [
      "Classification report using Softmax activation function\n",
      "              precision    recall  f1-score   support\n",
      "\n",
      "           0       0.47      0.90      0.62        20\n",
      "           1       0.45      0.26      0.33        19\n",
      "           2       0.00      0.00      0.00         6\n",
      "           4       0.00      0.00      0.00         2\n",
      "           5       0.00      0.00      0.00         3\n",
      "           6       0.75      1.00      0.86         3\n",
      "\n",
      "    accuracy                           0.49        53\n",
      "   macro avg       0.28      0.36      0.30        53\n",
      "weighted avg       0.38      0.49      0.40        53\n",
      "\n"
     ]
    },
    {
     "name": "stderr",
     "output_type": "stream",
     "text": [
      "C:\\ProgramData\\Anaconda3\\lib\\site-packages\\sklearn\\metrics\\_classification.py:1245: UndefinedMetricWarning: Precision and F-score are ill-defined and being set to 0.0 in labels with no predicted samples. Use `zero_division` parameter to control this behavior.\n",
      "  _warn_prf(average, modifier, msg_start, len(result))\n",
      "C:\\ProgramData\\Anaconda3\\lib\\site-packages\\sklearn\\metrics\\_classification.py:1245: UndefinedMetricWarning: Precision and F-score are ill-defined and being set to 0.0 in labels with no predicted samples. Use `zero_division` parameter to control this behavior.\n",
      "  _warn_prf(average, modifier, msg_start, len(result))\n",
      "C:\\ProgramData\\Anaconda3\\lib\\site-packages\\sklearn\\metrics\\_classification.py:1245: UndefinedMetricWarning: Precision and F-score are ill-defined and being set to 0.0 in labels with no predicted samples. Use `zero_division` parameter to control this behavior.\n",
      "  _warn_prf(average, modifier, msg_start, len(result))\n"
     ]
    }
   ],
   "source": [
    "print(\"Classification report using Softmax activation function\")\n",
    "printClassificationReport(softnet, test, testt)"
   ]
  },
  {
   "cell_type": "markdown",
   "metadata": {},
   "source": [
    "# Linear activation function "
   ]
  },
  {
   "cell_type": "code",
   "execution_count": 153,
   "metadata": {},
   "outputs": [
    {
     "name": "stdout",
     "output_type": "stream",
     "text": [
      "Using Linear activation function\n",
      "No. of neurons in hidden layers =  12\n",
      "Stopped, error =  15.038230534429555\n",
      "Percentage Correct:  49.056603773584904\n"
     ]
    }
   ],
   "source": [
    "print(\"Using Linear activation function\")\n",
    "signet = mlp(train,traint,n, outtype='linear')\n",
    "signet.earlystopping(train,traint,valid,validt,0.15)\n",
    "sigcm = signet.confmat(test, testt)"
   ]
  },
  {
   "cell_type": "code",
   "execution_count": 154,
   "metadata": {},
   "outputs": [
    {
     "name": "stdout",
     "output_type": "stream",
     "text": [
      "Using linear activation function\n"
     ]
    },
    {
     "data": {
      "image/png": "[encoded data removed]",
      "text/plain": [
       "<Figure size 720x504 with 2 Axes>"
      ]
     },
     "metadata": {},
     "output_type": "display_data"
    }
   ],
   "source": [
    "print(\"Using linear activation function\")\n",
    "displayConfusionMatrix(sigcm,plt)\n",
    "plt.show()"
   ]
  },
  {
   "cell_type": "code",
   "execution_count": 155,
   "metadata": {},
   "outputs": [
    {
     "name": "stdout",
     "output_type": "stream",
     "text": [
      "Classification report using linear activation function\n",
      "              precision    recall  f1-score   support\n",
      "\n",
      "           0       0.48      1.00      0.65        20\n",
      "           1       0.50      0.16      0.24        19\n",
      "           2       0.00      0.00      0.00         6\n",
      "           4       0.00      0.00      0.00         2\n",
      "           5       0.00      0.00      0.00         3\n",
      "           6       0.60      1.00      0.75         3\n",
      "\n",
      "    accuracy                           0.49        53\n",
      "   macro avg       0.26      0.36      0.27        53\n",
      "weighted avg       0.39      0.49      0.37        53\n",
      "\n"
     ]
    },
    {
     "name": "stderr",
     "output_type": "stream",
     "text": [
      "C:\\ProgramData\\Anaconda3\\lib\\site-packages\\sklearn\\metrics\\_classification.py:1245: UndefinedMetricWarning: Precision and F-score are ill-defined and being set to 0.0 in labels with no predicted samples. Use `zero_division` parameter to control this behavior.\n",
      "  _warn_prf(average, modifier, msg_start, len(result))\n",
      "C:\\ProgramData\\Anaconda3\\lib\\site-packages\\sklearn\\metrics\\_classification.py:1245: UndefinedMetricWarning: Precision and F-score are ill-defined and being set to 0.0 in labels with no predicted samples. Use `zero_division` parameter to control this behavior.\n",
      "  _warn_prf(average, modifier, msg_start, len(result))\n",
      "C:\\ProgramData\\Anaconda3\\lib\\site-packages\\sklearn\\metrics\\_classification.py:1245: UndefinedMetricWarning: Precision and F-score are ill-defined and being set to 0.0 in labels with no predicted samples. Use `zero_division` parameter to control this behavior.\n",
      "  _warn_prf(average, modifier, msg_start, len(result))\n"
     ]
    }
   ],
   "source": [
    "print(\"Classification report using linear activation function\")\n",
    "printClassificationReport(signet, test, testt)"
   ]
  },
  {
   "cell_type": "markdown",
   "metadata": {},
   "source": [
    "# Tanh activation function "
   ]
  },
  {
   "cell_type": "code",
   "execution_count": 171,
   "metadata": {},
   "outputs": [
    {
     "name": "stdout",
     "output_type": "stream",
     "text": [
      "Using tanh activation function\n",
      "No. of neurons in hidden layers =  12\n",
      "Stopped, error =  15.501622909344988\n",
      "Percentage Correct:  47.16981132075472\n"
     ]
    }
   ],
   "source": [
    "print(\"Using tanh activation function\")\n",
    "tanhnet = mlp(train,traint,n, outtype='tanh')\n",
    "#tanhnet.mlptrain(train, traint, 0.25, 20000)\n",
    "tanhnet.earlystopping(train,traint,valid,validt,0.001)\n",
    "tanhcm = tanhnet.confmat(test, testt)"
   ]
  },
  {
   "cell_type": "code",
   "execution_count": 172,
   "metadata": {},
   "outputs": [
    {
     "name": "stdout",
     "output_type": "stream",
     "text": [
      "Using tanh activation function\n"
     ]
    },
    {
     "data": {
      "image/png": "[encoded data removed]",
      "text/plain": [
       "<Figure size 720x504 with 2 Axes>"
      ]
     },
     "metadata": {},
     "output_type": "display_data"
    }
   ],
   "source": [
    "print(\"Using tanh activation function\")\n",
    "displayConfusionMatrix(tanhcm,plt)\n",
    "plt.show()"
   ]
  },
  {
   "cell_type": "code",
   "execution_count": 173,
   "metadata": {},
   "outputs": [
    {
     "name": "stdout",
     "output_type": "stream",
     "text": [
      "Classification report using tanh activation function\n",
      "              precision    recall  f1-score   support\n",
      "\n",
      "           0       0.46      0.95      0.62        20\n",
      "           1       0.43      0.16      0.23        19\n",
      "           2       0.00      0.00      0.00         6\n",
      "           4       0.00      0.00      0.00         2\n",
      "           5       0.00      0.00      0.00         3\n",
      "           6       0.60      1.00      0.75         3\n",
      "\n",
      "    accuracy                           0.47        53\n",
      "   macro avg       0.25      0.35      0.27        53\n",
      "weighted avg       0.36      0.47      0.36        53\n",
      "\n"
     ]
    },
    {
     "name": "stderr",
     "output_type": "stream",
     "text": [
      "C:\\ProgramData\\Anaconda3\\lib\\site-packages\\sklearn\\metrics\\_classification.py:1245: UndefinedMetricWarning: Precision and F-score are ill-defined and being set to 0.0 in labels with no predicted samples. Use `zero_division` parameter to control this behavior.\n",
      "  _warn_prf(average, modifier, msg_start, len(result))\n",
      "C:\\ProgramData\\Anaconda3\\lib\\site-packages\\sklearn\\metrics\\_classification.py:1245: UndefinedMetricWarning: Precision and F-score are ill-defined and being set to 0.0 in labels with no predicted samples. Use `zero_division` parameter to control this behavior.\n",
      "  _warn_prf(average, modifier, msg_start, len(result))\n",
      "C:\\ProgramData\\Anaconda3\\lib\\site-packages\\sklearn\\metrics\\_classification.py:1245: UndefinedMetricWarning: Precision and F-score are ill-defined and being set to 0.0 in labels with no predicted samples. Use `zero_division` parameter to control this behavior.\n",
      "  _warn_prf(average, modifier, msg_start, len(result))\n"
     ]
    }
   ],
   "source": [
    "print(\"Classification report using tanh activation function\")\n",
    "printClassificationReport(tanhnet, test, testt)"
   ]
  }
 ],
 "metadata": {
  "interpreter": {
   "hash": "b3ba2566441a7c06988d0923437866b63cedc61552a5af99d1f4fb67d367b25f"
  },
  "kernelspec": {
   "display_name": "Python 3.8.8 64-bit ('base': conda)",
   "name": "python3"
  },
  "language_info": {
   "codemirror_mode": {
    "name": "ipython",
    "version": 3
   },
   "file_extension": ".py",
   "mimetype": "text/x-python",
   "name": "python",
   "nbconvert_exporter": "python",
   "pygments_lexer": "ipython3",
   "version": "3.8.8"
  },
  "orig_nbformat": 4
 },
 "nbformat": 4,
 "nbformat_minor": 2
}
