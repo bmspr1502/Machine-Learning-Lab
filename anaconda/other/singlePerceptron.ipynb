{
 "cells": [
  {
   "cell_type": "code",
   "execution_count": 1,
   "source": [
    "import numpy as np"
   ],
   "outputs": [],
   "metadata": {}
  },
  {
   "cell_type": "code",
   "execution_count": 2,
   "source": [
    "class Perceptron(object):\r\n",
    "    \"\"\"Implements a perceptron network\"\"\"\r\n",
    "    def __init__(self, input_size, lr=1, epochs=100):\r\n",
    "        #initializing with random number\r\n",
    "        self.W = np.random.rand(input_size+1)*0.1-0.05\r\n",
    "        # add one for bias\r\n",
    "        \r\n",
    "        self.epochs = epochs\r\n",
    "        self.lr = lr\r\n",
    "    \r\n",
    "    def activation_fn(self, x):\r\n",
    "        return 1 if x >= 0 else 0\r\n",
    "    \r\n",
    "    def predict(self, x):\r\n",
    "        z = self.W.dot(x)\r\n",
    "        a = self.activation_fn(z)\r\n",
    "        return a\r\n",
    "    \r\n",
    "    def fit(self, X, d):\r\n",
    "        for _ in range(self.epochs):\r\n",
    "            for i in range(d.shape[0]):\r\n",
    "                x = np.insert(X[i], 0, 1)\r\n",
    "                y = self.predict(x)\r\n",
    "                e = d[i] - y\r\n",
    "                self.W = self.W + self.lr * e * x"
   ],
   "outputs": [],
   "metadata": {}
  },
  {
   "cell_type": "code",
   "execution_count": 13,
   "source": [
    "#IMPLEMENTATION OF XOR GATE\r\n",
    "X = np.array([\r\n",
    "    [0, 0],\r\n",
    "    [0, 1],\r\n",
    "    [1, 0],\r\n",
    "    [1, 1]\r\n",
    "])\r\n",
    "\r\n",
    "d = np.array([0, 1, 1, 0])\r\n",
    "perceptron = Perceptron(input_size=2, lr=0.4, epochs=50)\r\n",
    "perceptron.fit(X, d)\r\n",
    "print(perceptron.W)"
   ],
   "outputs": [
    {
     "output_type": "stream",
     "name": "stdout",
     "text": [
      "[ 0.02941775 -0.04810018 -0.02917944]\n"
     ]
    }
   ],
   "metadata": {}
  },
  {
   "cell_type": "code",
   "execution_count": 14,
   "source": [
    "#OUTPUT PREDICTION\r\n",
    "for i in X:\r\n",
    "    val = perceptron.predict(np.insert(i, 0, 1))\r\n",
    "    print(\"X=%d, Y=%d, output=\" %(i[0], i[1]), val)\r\n"
   ],
   "outputs": [
    {
     "output_type": "stream",
     "name": "stdout",
     "text": [
      "X=0, Y=0, output= 1\n",
      "X=0, Y=1, output= 1\n",
      "X=1, Y=0, output= 0\n",
      "X=1, Y=1, output= 0\n"
     ]
    }
   ],
   "metadata": {}
  },
  {
   "cell_type": "code",
   "execution_count": 9,
   "source": [
    "import matplotlib.pyplot as plt\r\n",
    "from sklearn.metrics import plot_confusion_matrix\r\n",
    "from sklearn.metrics import confusion_matrix\r\n",
    "from sklearn.metrics import classification_report\r\n",
    "\r\n",
    "y_true = d\r\n",
    "y_pred = [1,1,0,0]\r\n",
    "\r\n",
    "output = np.array(confusion_matrix(y_true, y_pred))\r\n",
    "print(output)\r\n",
    "\r\n",
    "# outcome values order in sklearn\r\n",
    "tp, fn, fp, tn = confusion_matrix(y_true,y_pred,labels=[1,0]).reshape(-1)\r\n",
    "print('Outcome values : \\n', tp, fn, fp, tn)\r\n",
    "\r\n",
    "# classification report for precision, recall f1-score and accuracy\r\n",
    "matrix = classification_report(y_true,y_pred,labels=[1,0])\r\n",
    "print('Classification report : \\n',matrix)"
   ],
   "outputs": [
    {
     "output_type": "stream",
     "name": "stdout",
     "text": [
      "[[0 1]\n",
      " [2 1]]\n",
      "Outcome values : \n",
      " 1 2 1 0\n",
      "Classification report : \n",
      "               precision    recall  f1-score   support\n",
      "\n",
      "           1       0.50      0.33      0.40         3\n",
      "           0       0.00      0.00      0.00         1\n",
      "\n",
      "    accuracy                           0.25         4\n",
      "   macro avg       0.25      0.17      0.20         4\n",
      "weighted avg       0.38      0.25      0.30         4\n",
      "\n"
     ]
    }
   ],
   "metadata": {}
  },
  {
   "cell_type": "code",
   "execution_count": 10,
   "source": [
    "import seaborn as sn\r\n",
    "import pandas as pd\r\n",
    "import matplotlib.pyplot as plt\r\n",
    "\r\n",
    "array = [[1,1],\r\n",
    "         [1,1]]\r\n",
    "\r\n",
    "df_cm = pd.DataFrame(array)\r\n",
    "# plt.figure(figsize=(10,7))\r\n",
    "sn.set(font_scale=1.4) # for label size\r\n",
    "sn.heatmap(df_cm, annot=True, annot_kws={\"size\": 16}) # font size\r\n",
    "\r\n",
    "plt.show()"
   ],
   "outputs": [
    {
     "output_type": "display_data",
     "data": {
      "image/png": "[encoded data removed]",
      "text/plain": [
       "<Figure size 432x288 with 2 Axes>"
      ]
     },
     "metadata": {}
    }
   ],
   "metadata": {}
  },
  {
   "cell_type": "code",
   "execution_count": 11,
   "source": [
    "def plot_data(inputs,targets,weights):\r\n",
    "    # fig config\r\n",
    "    plt.figure(figsize=(10,6))\r\n",
    "    plt.grid(True)\r\n",
    "\r\n",
    "    #plot input samples(2D data points) and i have two classes. \r\n",
    "    #one is +1 and second one is -1, so it red color for +1 and blue color for -1\r\n",
    "    for input,target in zip(inputs,targets):\r\n",
    "        plt.plot(input[0],input[1],'ro' if (target == 1.0) else 'bo')\r\n",
    "\r\n",
    "    # Here i am calculating slope and intercept with given three weights\r\n",
    "    for i in np.linspace(np.amin(inputs[:,:1]),np.amax(inputs[:,:1])):\r\n",
    "        slope = -(weights[0]/weights[2])/(weights[0]/weights[1])  \r\n",
    "        intercept = -weights[0]/weights[2]\r\n",
    "\r\n",
    "        #y =mx+c, m is slope and c is intercept\r\n",
    "        y = (slope*i) + intercept\r\n",
    "        plt.plot(i, y,'ko')"
   ],
   "outputs": [],
   "metadata": {}
  },
  {
   "cell_type": "code",
   "execution_count": 12,
   "source": [
    "plot_data(X, d, perceptron.W)"
   ],
   "outputs": [
    {
     "output_type": "display_data",
     "data": {
      "image/png": "[encoded data removed]",
      "text/plain": [
       "<Figure size 720x432 with 1 Axes>"
      ]
     },
     "metadata": {}
    }
   ],
   "metadata": {}
  },
  {
   "cell_type": "code",
   "execution_count": null,
   "source": [],
   "outputs": [],
   "metadata": {}
  }
 ],
 "metadata": {
  "kernelspec": {
   "name": "python3",
   "display_name": "Python 3.8.8 64-bit ('base': conda)"
  },
  "language_info": {
   "codemirror_mode": {
    "name": "ipython",
    "version": 3
   },
   "file_extension": ".py",
   "mimetype": "text/x-python",
   "name": "python",
   "nbconvert_exporter": "python",
   "pygments_lexer": "ipython3",
   "version": "3.8.8"
  },
  "interpreter": {
   "hash": "b3ba2566441a7c06988d0923437866b63cedc61552a5af99d1f4fb67d367b25f"
  }
 },
 "nbformat": 4,
 "nbformat_minor": 5
}