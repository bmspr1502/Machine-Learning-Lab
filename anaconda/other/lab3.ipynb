{
 "cells": [
  {
   "cell_type": "code",
   "execution_count": 47,
   "id": "c5afb5ee",
   "metadata": {},
   "outputs": [],
   "source": [
    "# imports\n",
    "\n",
    "import pandas as pd\n",
    "import numpy as np"
   ]
  },
  {
   "cell_type": "code",
   "execution_count": 59,
   "id": "b233b3da",
   "metadata": {},
   "outputs": [
    {
     "name": "stdout",
     "output_type": "stream",
     "text": [
      "           nose     cough      skin class\n",
      "0  running nose  coughing  red skin   yes\n",
      "1  running nose  coughing    normal   yes\n",
      "2  running nose    normal  red skin    no\n",
      "3        normal  coughing  red skin    no\n",
      "4        normal    normal  red skin    no\n",
      "5        normal    normal    normal    no\n",
      "\n",
      "-------------------------------------------------------\n",
      "\n",
      "The attributes are: \n",
      " [['running nose' 'coughing' 'red skin']\n",
      " ['running nose' 'coughing' 'normal']\n",
      " ['running nose' 'normal' 'red skin']\n",
      " ['normal' 'coughing' 'red skin']\n",
      " ['normal' 'normal' 'red skin']\n",
      " ['normal' 'normal' 'normal']]\n",
      "\n",
      "-------------------------------------------------------\n",
      "\n",
      "The target is: \n",
      " ['yes' 'yes' 'no' 'no' 'no' 'no']\n",
      "\n",
      "-------------------------------------------------------\n",
      "\n"
     ]
    }
   ],
   "source": [
    "# getting the data from the csv file\n",
    "data = pd.read_csv(\"health.csv\")\n",
    "print(data)\n",
    "print(\"\\n-------------------------------------------------------\\n\")\n",
    " \n",
    "#getting the attributes outside\n",
    "attr = np.array(data)[:,:-1]\n",
    "print(\"The attributes are: \\n\",attr)\n",
    "print(\"\\n-------------------------------------------------------\\n\")\n",
    "\n",
    "#segragating the target that has positive and negative examples\n",
    "target = np.array(data)[:,-1]\n",
    "print(\"The target is: \\n\",target)\n",
    "print(\"\\n-------------------------------------------------------\\n\")"
   ]
  },
  {
   "cell_type": "code",
   "execution_count": 57,
   "id": "7fe50761",
   "metadata": {},
   "outputs": [],
   "source": [
    "#training function to implement find-s algorithm\n",
    "def train(attr,target):\n",
    "    for i, val in enumerate(target):\n",
    "        if val == \"yes\":\n",
    "            specific_hypothesis = attr[i].copy()\n",
    "            break\n",
    "             \n",
    "    for i, val in enumerate(attr):\n",
    "        if target[i] == \"yes\":\n",
    "            for x in range(len(specific_hypothesis)):\n",
    "                if val[x] != specific_hypothesis[x]:\n",
    "                    specific_hypothesis[x] = '?'\n",
    "                else:\n",
    "                    pass\n",
    "                 \n",
    "    return specific_hypothesis\n",
    " "
   ]
  },
  {
   "cell_type": "code",
   "execution_count": 60,
   "id": "dafc989b",
   "metadata": {
    "scrolled": true
   },
   "outputs": [
    {
     "name": "stdout",
     "output_type": "stream",
     "text": [
      "The final hypothesis is: ['running nose' 'coughing' '?']\n"
     ]
    }
   ],
   "source": [
    "#obtaining the final hypothesis\n",
    "print(\"The final hypothesis is:\",train(attr,target))"
   ]
  },
  {
   "cell_type": "code",
   "execution_count": null,
   "id": "1027f8e5",
   "metadata": {},
   "outputs": [],
   "source": []
  }
 ],
 "metadata": {
  "kernelspec": {
   "display_name": "Python 3",
   "language": "python",
   "name": "python3"
  },
  "language_info": {
   "codemirror_mode": {
    "name": "ipython",
    "version": 3
   },
   "file_extension": ".py",
   "mimetype": "text/x-python",
   "name": "python",
   "nbconvert_exporter": "python",
   "pygments_lexer": "ipython3",
   "version": "3.8.8"
  }
 },
 "nbformat": 4,
 "nbformat_minor": 5
}
