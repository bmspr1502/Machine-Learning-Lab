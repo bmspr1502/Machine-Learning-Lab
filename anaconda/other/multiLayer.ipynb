{
 "cells": [
  {
   "cell_type": "code",
   "execution_count": 2,
   "source": [
    "import numpy as np\r\n",
    "import mlp\r\n",
    "xordata = np.array([[0,0,0],[0,1,1],[1,0,1],[1,1,0]])\r\n",
    "\r\n",
    "q = mlp.mlp(xordata[:,0:2],xordata[:,2:3],2,outtype='logistic')\r\n",
    "q.mlptrain(xordata[:,0:2],xordata[:,2:3],0.25,501)\r\n",
    "q.confmat(xordata[:,0:2],xordata[:,2:3])"
   ],
   "outputs": [
    {
     "output_type": "stream",
     "name": "stdout",
     "text": [
      "Iteration:  0  Error:  0.5695708881870863\n",
      "Iteration:  100  Error:  0.47075890231399664\n",
      "Iteration:  200  Error:  0.255898635745315\n",
      "Iteration:  300  Error:  0.015897228160342988\n",
      "Iteration:  400  Error:  0.006786036804098226\n",
      "Iteration:  500  Error:  0.0042563267936051915\n",
      "Confusion matrix is:\n",
      "[[2. 0.]\n",
      " [0. 2.]]\n",
      "Percentage Correct:  100.0\n"
     ]
    }
   ],
   "metadata": {}
  },
  {
   "cell_type": "code",
   "execution_count": 3,
   "source": [
    "from sklearn.metrics import classification_report\r\n",
    "\r\n",
    "print(classification_report(xordata[:,2], xordata[:,2]))"
   ],
   "outputs": [
    {
     "output_type": "stream",
     "name": "stdout",
     "text": [
      "              precision    recall  f1-score   support\n",
      "\n",
      "           0       1.00      1.00      1.00         2\n",
      "           1       1.00      1.00      1.00         2\n",
      "\n",
      "    accuracy                           1.00         4\n",
      "   macro avg       1.00      1.00      1.00         4\n",
      "weighted avg       1.00      1.00      1.00         4\n",
      "\n"
     ]
    }
   ],
   "metadata": {}
  }
 ],
 "metadata": {
  "orig_nbformat": 4,
  "language_info": {
   "name": "python",
   "version": "3.8.8",
   "mimetype": "text/x-python",
   "codemirror_mode": {
    "name": "ipython",
    "version": 3
   },
   "pygments_lexer": "ipython3",
   "nbconvert_exporter": "python",
   "file_extension": ".py"
  },
  "kernelspec": {
   "name": "python3",
   "display_name": "Python 3.8.8 64-bit ('base': conda)"
  },
  "interpreter": {
   "hash": "b3ba2566441a7c06988d0923437866b63cedc61552a5af99d1f4fb67d367b25f"
  }
 },
 "nbformat": 4,
 "nbformat_minor": 2
}