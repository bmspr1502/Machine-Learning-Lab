{
 "cells": [
  {
   "cell_type": "code",
   "execution_count": 1,
   "source": [
    "# The iris classification example\r\n",
    "\r\n",
    "def preprocessIris(infile,outfile):\r\n",
    "\r\n",
    "    stext1 = 'Iris-setosa'\r\n",
    "    stext2 = 'Iris-versicolor'\r\n",
    "    stext3 = 'Iris-virginica'\r\n",
    "    rtext1 = '0'\r\n",
    "    rtext2 = '1'\r\n",
    "    rtext3 = '2'\r\n",
    "\r\n",
    "    fid = open(infile,\"r\")\r\n",
    "    oid = open(outfile,\"w\")\r\n",
    "\r\n",
    "    for s in fid:\r\n",
    "        if s.find(stext1)>-1:\r\n",
    "            oid.write(s.replace(stext1, rtext1))\r\n",
    "        elif s.find(stext2)>-1:\r\n",
    "            oid.write(s.replace(stext2, rtext2))\r\n",
    "        elif s.find(stext3)>-1:\r\n",
    "            oid.write(s.replace(stext3, rtext3))\r\n",
    "    fid.close()\r\n",
    "    oid.close()\r\n"
   ],
   "outputs": [],
   "metadata": {}
  },
  {
   "cell_type": "code",
   "execution_count": 4,
   "source": [
    "import numpy as np\r\n",
    "# Preprocessor to remove the test (only needed once)\r\n",
    "preprocessIris('iris.data.csv','iris_proc.data')\r\n",
    "\r\n",
    "iris = np.loadtxt('iris_proc.data',delimiter=',')\r\n",
    "iris[:,:4] = iris[:,:4]-iris[:,:4].mean(axis=0)\r\n",
    "imax = np.concatenate((iris.max(axis=0)*np.ones((1,5)),np.abs(iris.min(axis=0)*np.ones((1,5)))),axis=0).max(axis=0)\r\n",
    "iris[:,:4] = iris[:,:4]/imax[:4]\r\n",
    "print (iris[0:5,:])"
   ],
   "outputs": [
    {
     "output_type": "stream",
     "name": "stdout",
     "text": [
      "[[-0.36142626  0.33135215 -0.7508489  -0.76741803  0.        ]\n",
      " [-0.45867099 -0.04011887 -0.7508489  -0.76741803  0.        ]\n",
      " [-0.55591572  0.10846954 -0.78268251 -0.76741803  0.        ]\n",
      " [-0.60453809  0.03417533 -0.71901528 -0.76741803  0.        ]\n",
      " [-0.41004862  0.40564636 -0.7508489  -0.76741803  0.        ]]\n"
     ]
    }
   ],
   "metadata": {}
  },
  {
   "cell_type": "code",
   "execution_count": 5,
   "source": [
    "\r\n",
    "# Split into training, validation, and test sets\r\n",
    "target = np.zeros((np.shape(iris)[0],3))\r\n",
    "indices = np.where(iris[:,4]==0) \r\n",
    "target[indices,0] = 1\r\n",
    "indices = np.where(iris[:,4]==1)\r\n",
    "target[indices,1] = 1\r\n",
    "indices = np.where(iris[:,4]==2)\r\n",
    "target[indices,2] = 1\r\n",
    "\r\n",
    "# Randomly order the data\r\n",
    "order = range(np.shape(iris)[0])\r\n",
    "np.random.shuffle(order)\r\n",
    "iris = iris[order,:]\r\n",
    "target = target[order,:]\r\n",
    "\r\n",
    "train = iris[::2,0:4]\r\n",
    "traint = target[::2]\r\n",
    "valid = iris[1::4,0:4]\r\n",
    "validt = target[1::4]\r\n",
    "test = iris[3::4,0:4]\r\n",
    "testt = target[3::4]\r\n",
    "\r\n",
    "#print train.max(axis=0), train.min(axis=0)"
   ],
   "outputs": [
    {
     "output_type": "error",
     "ename": "TypeError",
     "evalue": "'range' object does not support item assignment",
     "traceback": [
      "\u001b[1;31m---------------------------------------------------------------------------\u001b[0m",
      "\u001b[1;31mTypeError\u001b[0m                                 Traceback (most recent call last)",
      "\u001b[1;32m<ipython-input-5-738b2ca9255f>\u001b[0m in \u001b[0;36m<module>\u001b[1;34m\u001b[0m\n\u001b[0;32m     10\u001b[0m \u001b[1;31m# Randomly order the data\u001b[0m\u001b[1;33m\u001b[0m\u001b[1;33m\u001b[0m\u001b[1;33m\u001b[0m\u001b[0m\n\u001b[0;32m     11\u001b[0m \u001b[0morder\u001b[0m \u001b[1;33m=\u001b[0m \u001b[0mrange\u001b[0m\u001b[1;33m(\u001b[0m\u001b[0mnp\u001b[0m\u001b[1;33m.\u001b[0m\u001b[0mshape\u001b[0m\u001b[1;33m(\u001b[0m\u001b[0miris\u001b[0m\u001b[1;33m)\u001b[0m\u001b[1;33m[\u001b[0m\u001b[1;36m0\u001b[0m\u001b[1;33m]\u001b[0m\u001b[1;33m)\u001b[0m\u001b[1;33m\u001b[0m\u001b[1;33m\u001b[0m\u001b[0m\n\u001b[1;32m---> 12\u001b[1;33m \u001b[0mnp\u001b[0m\u001b[1;33m.\u001b[0m\u001b[0mrandom\u001b[0m\u001b[1;33m.\u001b[0m\u001b[0mshuffle\u001b[0m\u001b[1;33m(\u001b[0m\u001b[0morder\u001b[0m\u001b[1;33m)\u001b[0m\u001b[1;33m\u001b[0m\u001b[1;33m\u001b[0m\u001b[0m\n\u001b[0m\u001b[0;32m     13\u001b[0m \u001b[0miris\u001b[0m \u001b[1;33m=\u001b[0m \u001b[0miris\u001b[0m\u001b[1;33m[\u001b[0m\u001b[0morder\u001b[0m\u001b[1;33m,\u001b[0m\u001b[1;33m:\u001b[0m\u001b[1;33m]\u001b[0m\u001b[1;33m\u001b[0m\u001b[1;33m\u001b[0m\u001b[0m\n\u001b[0;32m     14\u001b[0m \u001b[0mtarget\u001b[0m \u001b[1;33m=\u001b[0m \u001b[0mtarget\u001b[0m\u001b[1;33m[\u001b[0m\u001b[0morder\u001b[0m\u001b[1;33m,\u001b[0m\u001b[1;33m:\u001b[0m\u001b[1;33m]\u001b[0m\u001b[1;33m\u001b[0m\u001b[1;33m\u001b[0m\u001b[0m\n",
      "\u001b[1;32mmtrand.pyx\u001b[0m in \u001b[0;36mnumpy.random.mtrand.RandomState.shuffle\u001b[1;34m()\u001b[0m\n",
      "\u001b[1;32mmtrand.pyx\u001b[0m in \u001b[0;36mnumpy.random.mtrand.RandomState.shuffle\u001b[1;34m()\u001b[0m\n",
      "\u001b[1;31mTypeError\u001b[0m: 'range' object does not support item assignment"
     ]
    }
   ],
   "metadata": {}
  },
  {
   "cell_type": "code",
   "execution_count": null,
   "source": [
    "# Train the network\r\n",
    "import mlp\r\n",
    "net = mlp.mlp(train,traint,5,outtype='logistic')\r\n",
    "net.earlystopping(train,traint,valid,validt,0.1)\r\n",
    "net.confmat(test,testt)"
   ],
   "outputs": [],
   "metadata": {}
  }
 ],
 "metadata": {
  "orig_nbformat": 4,
  "language_info": {
   "name": "python",
   "version": "3.8.8",
   "mimetype": "text/x-python",
   "codemirror_mode": {
    "name": "ipython",
    "version": 3
   },
   "pygments_lexer": "ipython3",
   "nbconvert_exporter": "python",
   "file_extension": ".py"
  },
  "kernelspec": {
   "name": "python3",
   "display_name": "Python 3.8.8 64-bit ('base': conda)"
  },
  "interpreter": {
   "hash": "b3ba2566441a7c06988d0923437866b63cedc61552a5af99d1f4fb67d367b25f"
  }
 },
 "nbformat": 4,
 "nbformat_minor": 2
}