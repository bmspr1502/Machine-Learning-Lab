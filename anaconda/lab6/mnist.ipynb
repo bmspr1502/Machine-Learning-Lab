{
 "cells": [
  {
   "cell_type": "code",
   "execution_count": null,
   "source": [
    "import pylab as pl\r\n",
    "import numpy as np\r\n",
    "import mlp\r\n",
    "import cPickle, gzip\r\n",
    "\r\n",
    "# Read the dataset in (code from sheet)\r\n",
    "f = gzip.open('../2 Linear/mnist.pkl.gz','rb')\r\n",
    "tset, vset, teset = cPickle.load(f)\r\n",
    "f.close()\r\n",
    "\r\n",
    "nread = 200\r\n",
    "# Just use the first few images\r\n",
    "train_in = tset[0][:nread,:]\r\n",
    "\r\n",
    "# This is a little bit of work -- 1 of N encoding\r\n",
    "# Make sure you understand how it does it\r\n",
    "train_tgt = np.zeros((nread,10))\r\n",
    "for i in range(nread):\r\n",
    "    train_tgt[i,tset[1][i]] = 1\r\n",
    "\r\n",
    "test_in = teset[0][:nread,:]\r\n",
    "test_tgt = np.zeros((nread,10))\r\n",
    "for i in range(nread):\r\n",
    "    test_tgt[i,teset[1][i]] = 1\r\n",
    "\r\n",
    "# We will need the validation set\r\n",
    "valid_in = vset[0][:nread,:]\r\n",
    "valid_tgt = np.zeros((nread,10))\r\n",
    "for i in range(nread):\r\n",
    "    valid_tgt[i,vset[1][i]] = 1\r\n",
    "\r\n",
    "for i in [1,2,5,10,20]:  \r\n",
    "    print \"----- \"+str(i)  \r\n",
    "    net = mlp.mlp(train_in,train_tgt,i,outtype='softmax')\r\n",
    "    net.earlystopping(train_in,train_tgt,valid_in,valid_tgt,0.1)\r\n",
    "    net.confmat(test_in,test_tgt)"
   ],
   "outputs": [],
   "metadata": {}
  }
 ],
 "metadata": {
  "orig_nbformat": 4,
  "language_info": {
   "name": "python"
  }
 },
 "nbformat": 4,
 "nbformat_minor": 2
}