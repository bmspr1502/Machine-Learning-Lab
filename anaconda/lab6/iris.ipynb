{
 "cells": [
  {
   "cell_type": "code",
   "execution_count": 132,
   "metadata": {},
   "outputs": [],
   "source": [
    "# replacing class names with numbers\n",
    "def preprocessIris(infile,outfile):\n",
    "\n",
    "    stext1 = 'Iris-setosa'\n",
    "    stext2 = 'Iris-versicolor'\n",
    "    stext3 = 'Iris-virginica'\n",
    "    rtext1 = '0'\n",
    "    rtext2 = '1'\n",
    "    rtext3 = '2'\n",
    "\n",
    "    fid = open(infile,\"r\")\n",
    "    oid = open(outfile,\"w\")\n",
    "\n",
    "    for s in fid:\n",
    "        if s.find(stext1)>-1:\n",
    "            oid.write(s.replace(stext1, rtext1))\n",
    "        elif s.find(stext2)>-1:\n",
    "            oid.write(s.replace(stext2, rtext2))\n",
    "        elif s.find(stext3)>-1:\n",
    "            oid.write(s.replace(stext3, rtext3))\n",
    "    fid.close()\n",
    "    oid.close()\n"
   ]
  },
  {
   "cell_type": "code",
   "execution_count": 133,
   "metadata": {},
   "outputs": [
    {
     "name": "stdout",
     "output_type": "stream",
     "text": [
      "[[ 0.42642255  0.42966245 -0.25438505  0.10122506  0.        ]\n",
      " [ 0.55006091  0.39788892 -0.23328978 -0.0367623   0.        ]\n",
      " [ 0.45911455 -0.29057161  0.03185603  0.17645604  0.        ]\n",
      " [ 0.40435144  0.48424514 -0.32721727 -0.3266131   0.        ]\n",
      " [-0.01397774 -0.40633125  0.19202762  0.02757498  0.        ]]\n"
     ]
    }
   ],
   "source": [
    "\n",
    "import numpy as np\n",
    "#preprocessIris('iris.data.csv','iris_proc.data')\n",
    "\n",
    "#loading data\n",
    "iris = np.loadtxt('banknote.csv',delimiter=',')\n",
    "#normalizing the input\n",
    "iris[:,:4] = iris[:,:4]-iris[:,:4].mean(axis=0)\n",
    "imax = np.concatenate((iris.max(axis=0)*np.ones((1,5)),np.abs(iris.min(axis=0)*np.ones((1,5)))),axis=0).max(axis=0)\n",
    "iris[:,:4] = iris[:,:4]/imax[:4]\n",
    "\n",
    "#sample output\n",
    "print (iris[0:5,:])\n"
   ]
  },
  {
   "cell_type": "code",
   "execution_count": 134,
   "metadata": {},
   "outputs": [
    {
     "name": "stdout",
     "output_type": "stream",
     "text": [
      "(1372, 5)\n"
     ]
    }
   ],
   "source": [
    "print(iris.shape)"
   ]
  },
  {
   "cell_type": "code",
   "execution_count": 135,
   "metadata": {},
   "outputs": [
    {
     "name": "stdout",
     "output_type": "stream",
     "text": [
      "[0.81991704 0.70270331 0.94137246 0.4949548 ] [-0.96127523 -0.95425427 -0.40434476 -1.        ]\n"
     ]
    }
   ],
   "source": [
    "\n",
    "# Split into training, validation, and test sets\n",
    "target = np.zeros((np.shape(iris)[0],2))\n",
    "indices = np.where(iris[:,4]==0) \n",
    "target[indices,0] = 1\n",
    "indices = np.where(iris[:,4]==1)\n",
    "target[indices,1] = 1\n",
    "#indices = np.where(iris[:,4]==2)\n",
    "#target[indices,2] = 1\n",
    "\n",
    "# Randomly order the data\n",
    "order = np.arange(np.shape(iris)[0])\n",
    "\n",
    "np.random.shuffle(order)\n",
    "iris = iris[order,:]\n",
    "target = target[order,:]\n",
    "\n",
    "train = iris[::2,0:4]\n",
    "traint = target[::2]\n",
    "valid = iris[1::4,0:4]\n",
    "validt = target[1::4]\n",
    "test = iris[3::4,0:4]\n",
    "testt = target[3::4]\n",
    "\n",
    "print (train.max(axis=0), train.min(axis=0))\n"
   ]
  },
  {
   "cell_type": "code",
   "execution_count": 136,
   "metadata": {},
   "outputs": [
    {
     "name": "stdout",
     "output_type": "stream",
     "text": [
      "1\n",
      "Iteration:  0  Error:  172.25374267512274\n",
      "2\n",
      "Iteration:  0  Error:  186.5038862009149\n",
      "3\n",
      "Iteration:  0  Error:  186.50163225703525\n",
      "Stopped 102.01329341965177 102.01294511540866 102.00591661968596\n",
      "Confusion matrix is:\n",
      "[[130.   0.]\n",
      " [ 55. 158.]]\n",
      "Percentage Correct:  83.96501457725948\n"
     ]
    }
   ],
   "source": [
    "# Train the network\n",
    "import MLP as mlp\n",
    "net = mlp.mlp(train,traint,20, outtype='logistic')\n",
    "net.earlystopping(train,traint,valid,validt,0.1)\n",
    "cm = net.confmat(test,testt)"
   ]
  },
  {
   "cell_type": "code",
   "execution_count": 139,
   "metadata": {},
   "outputs": [
    {
     "data": {
      "image/png": "[encoded data removed]",
      "text/plain": [
       "<Figure size 720x504 with 2 Axes>"
      ]
     },
     "metadata": {},
     "output_type": "display_data"
    }
   ],
   "source": [
    "import seaborn as sn\n",
    "import pandas as pd\n",
    "import matplotlib.pyplot as plt\n",
    "cm = np.array(cm)\n",
    "df_cm = pd.DataFrame(cm)\n",
    "plt.figure(figsize=(10,7))\n",
    "sn.set(font_scale=1.2)  # for label size\n",
    "sn.heatmap(df_cm, annot=True, annot_kws={\"size\": 14})  # font size\n",
    "plt.show()"
   ]
  },
  {
   "cell_type": "code",
   "execution_count": 140,
   "metadata": {},
   "outputs": [
    {
     "name": "stdout",
     "output_type": "stream",
     "text": [
      "              precision    recall  f1-score   support\n",
      "\n",
      "           0       1.00      0.70      0.83       185\n",
      "           1       0.74      1.00      0.85       158\n",
      "\n",
      "    accuracy                           0.84       343\n",
      "   macro avg       0.87      0.85      0.84       343\n",
      "weighted avg       0.88      0.84      0.84       343\n",
      "\n"
     ]
    }
   ],
   "source": [
    "from sklearn.metrics import classification_report\n",
    "targets=testt\n",
    "inputs = np.concatenate((test, -np.ones((np.shape(test)[0], 1))), axis=1)\n",
    "nclasses = np.shape(targets)[1]\n",
    "output = net.mlpfwd(inputs)\n",
    "if nclasses == 1:\n",
    "    nclasses = 2\n",
    "    output = np.where(output > 0.5, 1, 0)\n",
    "else:\n",
    "    # 1-of-N encoding\n",
    "    output = np.argmax(output, 1)\n",
    "    targets = np.argmax(targets, 1)\n",
    "\n",
    "\n",
    "print(classification_report(targets, output))"
   ]
  }
 ],
 "metadata": {
  "interpreter": {
   "hash": "b3ba2566441a7c06988d0923437866b63cedc61552a5af99d1f4fb67d367b25f"
  },
  "kernelspec": {
   "display_name": "Python 3.8.8 64-bit ('base': conda)",
   "name": "python3"
  },
  "language_info": {
   "codemirror_mode": {
    "name": "ipython",
    "version": 3
   },
   "file_extension": ".py",
   "mimetype": "text/x-python",
   "name": "python",
   "nbconvert_exporter": "python",
   "pygments_lexer": "ipython3",
   "version": "3.8.8"
  },
  "orig_nbformat": 4
 },
 "nbformat": 4,
 "nbformat_minor": 2
}
