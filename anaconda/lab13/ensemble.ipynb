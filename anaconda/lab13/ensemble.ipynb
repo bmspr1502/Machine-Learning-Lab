{
 "cells": [
  {
   "cell_type": "code",
   "execution_count": 166,
   "metadata": {},
   "outputs": [],
   "source": [
    "import numpy as np\n",
    "import pandas as pd\n",
    "from sklearn import metrics\n",
    "\n",
    "# classifier\n",
    "from sklearn.tree import DecisionTreeClassifier"
   ]
  },
  {
   "cell_type": "code",
   "execution_count": 167,
   "metadata": {},
   "outputs": [],
   "source": [
    "from sklearn.datasets import load_iris\n",
    "from sklearn.model_selection import train_test_split"
   ]
  },
  {
   "cell_type": "code",
   "execution_count": 168,
   "metadata": {},
   "outputs": [],
   "source": [
    "def bagging(X, y):\n",
    "    n_samples = X.shape[0]\n",
    "    # doing random sampling with replacement\n",
    "    indices = np.random.choice(n_samples, size=n_samples, replace=True)\n",
    "    return X.iloc[indices], y.iloc[indices]\n",
    "\n"
   ]
  },
  {
   "cell_type": "code",
   "execution_count": 169,
   "metadata": {},
   "outputs": [],
   "source": [
    "class BaggedClassifier:\n",
    "    def __init__(self, n_estimators, n_neighbours=5):\n",
    "        self.n_estimators = n_estimators\n",
    "        self.n_neighbours = n_neighbours\n",
    "        self.classifiers = []\n",
    "\n",
    "    def fit(self, X, y):\n",
    "        for _ in range(self.n_estimators):\n",
    "            clf = DecisionTreeClassifier(max_depth=4)\n",
    "\n",
    "            # getting random sample for the given input\n",
    "            X_sample, y_sample = bagging(X, y)\n",
    "\n",
    "            # fitting the data on the given input\n",
    "            clf.fit(X_sample, y_sample)\n",
    "\n",
    "            self.classifiers.append(clf)\n",
    "\n",
    "    def predict(self, X):\n",
    "        preds = np.array([clf.predict(X) for clf in self.classifiers])\n",
    "        preds = np.swapaxes(preds, 0, 1)\n",
    "\n",
    "        # majority vote\n",
    "        y_pred = [np.argmax(np.bincount(pred)) for pred in preds]\n",
    "        return y_pred\n"
   ]
  },
  {
   "cell_type": "code",
   "execution_count": 170,
   "metadata": {},
   "outputs": [],
   "source": [
    "\n",
    "dataset = load_iris()\n",
    "df = pd.DataFrame({\n",
    "    'sepal length': dataset.data[:,0],\n",
    "    'sepal width': dataset.data[:,1],\n",
    "    'petal length': dataset.data[:,2],\n",
    "    'petal width': dataset.data[:,3],\n",
    "    'species': dataset.target\n",
    "})\n"
   ]
  },
  {
   "cell_type": "code",
   "execution_count": 171,
   "metadata": {},
   "outputs": [
    {
     "name": "stdout",
     "output_type": "stream",
     "text": [
      "-----------DATASET-----------\n",
      "     sepal length  sepal width  petal length  petal width  species\n",
      "38            4.4          3.0           1.3          0.2        0\n",
      "4             5.0          3.6           1.4          0.2        0\n",
      "27            5.2          3.5           1.5          0.2        0\n",
      "109           7.2          3.6           6.1          2.5        2\n",
      "78            6.0          2.9           4.5          1.5        1\n"
     ]
    }
   ],
   "source": [
    "print('-----------DATASET-----------')\n",
    "print(df.sample(5))\n",
    "\n",
    "X = df.iloc[:,:4]\n",
    "y = df.iloc[:,-1]\n",
    "X_train, X_test, y_train, y_test = train_test_split(X, y, test_size=0.3)"
   ]
  },
  {
   "cell_type": "code",
   "execution_count": 172,
   "metadata": {},
   "outputs": [
    {
     "name": "stdout",
     "output_type": "stream",
     "text": [
      "\n",
      "Building random forest classifier\n",
      "number of classifiers: 50\n"
     ]
    }
   ],
   "source": [
    "print('\\nBuilding random forest classifier')\n",
    "clf = BaggedClassifier(n_estimators=50)\n",
    "clf.fit(X_train, y_train)\n",
    "print('number of classifiers:', clf.n_estimators)\n"
   ]
  },
  {
   "cell_type": "code",
   "execution_count": 173,
   "metadata": {},
   "outputs": [
    {
     "name": "stdout",
     "output_type": "stream",
     "text": [
      "\n",
      "accuracy: 0.9111111111111111\n",
      "confusion matrix:\n",
      " [[12  0  0]\n",
      " [ 0 14  3]\n",
      " [ 0  1 15]]\n",
      "Classification Report: \n",
      "               precision    recall  f1-score   support\n",
      "\n",
      "           0       1.00      1.00      1.00        12\n",
      "           1       0.93      0.82      0.87        17\n",
      "           2       0.83      0.94      0.88        16\n",
      "\n",
      "    accuracy                           0.91        45\n",
      "   macro avg       0.92      0.92      0.92        45\n",
      "weighted avg       0.92      0.91      0.91        45\n",
      "\n"
     ]
    }
   ],
   "source": [
    "y_pred = clf.predict(X_test)\n",
    "print()\n",
    "print('accuracy:', metrics.accuracy_score(y_test, y_pred))\n",
    "print('confusion matrix:\\n', metrics.confusion_matrix(y_test, y_pred))\n",
    "print(\"Classification Report: \\n\", metrics.classification_report(y_test, y_pred))"
   ]
  }
 ],
 "metadata": {
  "interpreter": {
   "hash": "b3ba2566441a7c06988d0923437866b63cedc61552a5af99d1f4fb67d367b25f"
  },
  "kernelspec": {
   "display_name": "Python 3.8.8 64-bit ('base': conda)",
   "language": "python",
   "name": "python3"
  },
  "language_info": {
   "codemirror_mode": {
    "name": "ipython",
    "version": 3
   },
   "file_extension": ".py",
   "mimetype": "text/x-python",
   "name": "python",
   "nbconvert_exporter": "python",
   "pygments_lexer": "ipython3",
   "version": "3.8.8"
  },
  "orig_nbformat": 4
 },
 "nbformat": 4,
 "nbformat_minor": 2
}
