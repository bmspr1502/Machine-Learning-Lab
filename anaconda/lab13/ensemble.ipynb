{
 "cells": [
  {
   "cell_type": "code",
   "execution_count": 150,
   "metadata": {},
   "outputs": [],
   "source": [
    "import numpy as np\n",
    "import pandas as pd\n",
    "from sklearn import metrics\n",
    "\n",
    "# classifier\n",
    "from sklearn.tree import DecisionTreeClassifier"
   ]
  },
  {
   "cell_type": "code",
   "execution_count": 151,
   "metadata": {},
   "outputs": [],
   "source": [
    "from sklearn.datasets import load_iris\n",
    "from sklearn.model_selection import train_test_split"
   ]
  },
  {
   "cell_type": "code",
   "execution_count": 152,
   "metadata": {},
   "outputs": [],
   "source": [
    "def bagging(X, y):\n",
    "    n_samples = X.shape[0]\n",
    "    indices = np.random.choice(n_samples, size=n_samples, replace=True) # random sampling with replacement\n",
    "    return X.iloc[indices], y.iloc[indices]\n"
   ]
  },
  {
   "cell_type": "code",
   "execution_count": 153,
   "metadata": {},
   "outputs": [],
   "source": [
    "class BaggedClassifier:\n",
    "    def __init__(self, n_estimators, n_neighbours = 5): \n",
    "        self.n_estimators = n_estimators\n",
    "        self.n_neighbours = n_neighbours\n",
    "        self.classifiers = []\n",
    "\n",
    "    def fit(self, X, y):\n",
    "        for _ in range(self.n_estimators):\n",
    "            clf = DecisionTreeClassifier(max_depth=3)\n",
    "            X_sample, y_sample = bagging(X, y)\n",
    "            clf.fit(X_sample, y_sample)\n",
    "\n",
    "            self.classifiers.append(clf)\n",
    "\n",
    "\n",
    "    def predict(self, X):\n",
    "        preds = np.array([clf.predict(X) for clf in self.classifiers])\n",
    "        preds = np.swapaxes(preds, 0 , 1)\n",
    "\n",
    "        # majority vote\n",
    "        y_pred = [np.argmax(np.bincount(pred)) for pred in preds]\n",
    "        return y_pred\n"
   ]
  },
  {
   "cell_type": "code",
   "execution_count": 154,
   "metadata": {},
   "outputs": [],
   "source": [
    "\n",
    "dataset = load_iris()\n",
    "df = pd.DataFrame({\n",
    "    'sepal length': dataset.data[:,0],\n",
    "    'sepal width': dataset.data[:,1],\n",
    "    'petal length': dataset.data[:,2],\n",
    "    'petal width': dataset.data[:,3],\n",
    "    'species': dataset.target\n",
    "})\n"
   ]
  },
  {
   "cell_type": "code",
   "execution_count": 155,
   "metadata": {},
   "outputs": [
    {
     "name": "stdout",
     "output_type": "stream",
     "text": [
      "-----------DATASET-----------\n",
      "     sepal length  sepal width  petal length  petal width  species\n",
      "39            5.1          3.4           1.5          0.2        0\n",
      "105           7.6          3.0           6.6          2.1        2\n",
      "59            5.2          2.7           3.9          1.4        1\n",
      "57            4.9          2.4           3.3          1.0        1\n",
      "13            4.3          3.0           1.1          0.1        0\n"
     ]
    }
   ],
   "source": [
    "print('-----------DATASET-----------')\n",
    "print(df.sample(5))\n",
    "\n",
    "X = df.iloc[:,:4]\n",
    "y = df.iloc[:,-1]\n",
    "X_train, X_test, y_train, y_test = train_test_split(X, y, test_size=0.3)"
   ]
  },
  {
   "cell_type": "code",
   "execution_count": 156,
   "metadata": {},
   "outputs": [
    {
     "name": "stdout",
     "output_type": "stream",
     "text": [
      "\n",
      "Building random forest classifier\n",
      "number of classifiers: 100\n"
     ]
    }
   ],
   "source": [
    "print('\\nBuilding random forest classifier')\n",
    "clf = BaggedClassifier(n_estimators=100)\n",
    "clf.fit(X_train, y_train)\n",
    "print('number of classifiers:', clf.n_estimators)\n"
   ]
  },
  {
   "cell_type": "code",
   "execution_count": 157,
   "metadata": {},
   "outputs": [
    {
     "name": "stdout",
     "output_type": "stream",
     "text": [
      "\n",
      "accuracy: 0.9333333333333333\n",
      "confusion matrix:\n",
      " [[15  0  0]\n",
      " [ 0 13  2]\n",
      " [ 0  1 14]]\n",
      "Classification Report: \n",
      "               precision    recall  f1-score   support\n",
      "\n",
      "           0       1.00      1.00      1.00        15\n",
      "           1       0.93      0.87      0.90        15\n",
      "           2       0.88      0.93      0.90        15\n",
      "\n",
      "    accuracy                           0.93        45\n",
      "   macro avg       0.93      0.93      0.93        45\n",
      "weighted avg       0.93      0.93      0.93        45\n",
      "\n"
     ]
    }
   ],
   "source": [
    "y_pred = clf.predict(X_test)\n",
    "print()\n",
    "print('accuracy:', metrics.accuracy_score(y_test, y_pred))\n",
    "print('confusion matrix:\\n', metrics.confusion_matrix(y_test, y_pred))\n",
    "print(\"Classification Report: \\n\", metrics.classification_report(y_test, y_pred))"
   ]
  }
 ],
 "metadata": {
  "interpreter": {
   "hash": "b3ba2566441a7c06988d0923437866b63cedc61552a5af99d1f4fb67d367b25f"
  },
  "kernelspec": {
   "display_name": "Python 3.8.8 64-bit ('base': conda)",
   "language": "python",
   "name": "python3"
  },
  "language_info": {
   "codemirror_mode": {
    "name": "ipython",
    "version": 3
   },
   "file_extension": ".py",
   "mimetype": "text/x-python",
   "name": "python",
   "nbconvert_exporter": "python",
   "pygments_lexer": "ipython3",
   "version": "3.8.8"
  },
  "orig_nbformat": 4
 },
 "nbformat": 4,
 "nbformat_minor": 2
}
