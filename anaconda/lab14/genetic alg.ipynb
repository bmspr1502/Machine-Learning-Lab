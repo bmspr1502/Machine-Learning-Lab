{
 "cells": [
  {
   "cell_type": "markdown",
   "id": "2309168e",
   "metadata": {},
   "source": [
    "# x^2 minimization function\n",
    "\n",
    "\n",
    "objective = x^2 + y^2\n",
    "x belongs to \\[-10,10\\, y also to \\[-10, 10\\]\n",
    "has an optima at f(0, 0) = 0.0"
   ]
  },
  {
   "cell_type": "code",
   "execution_count": 17,
   "id": "0f32ef68",
   "metadata": {},
   "outputs": [],
   "source": [
    "def objective(x):\n",
    "    return x[0]**2 + x[1]**2"
   ]
  },
  {
   "cell_type": "code",
   "execution_count": 18,
   "id": "36d951d0",
   "metadata": {},
   "outputs": [],
   "source": [
    "bounds = [[-10.0, 10.0], [-10.0, 10.0]]"
   ]
  },
  {
   "cell_type": "code",
   "execution_count": 19,
   "id": "e606435c",
   "metadata": {},
   "outputs": [],
   "source": [
    "from numpy.random import randint\n",
    "from numpy.random import rand"
   ]
  },
  {
   "cell_type": "code",
   "execution_count": 20,
   "id": "999bedbd",
   "metadata": {},
   "outputs": [],
   "source": [
    "def decode(bounds, n_bits, bitstrings):\n",
    "    decoded = list()\n",
    "    largest = 2**n_bits\n",
    "    \n",
    "    for i in range(len(bounds)):\n",
    "        \n",
    "        start, end = i*n_bits, (i*n_bits)+n_bits\n",
    "        substring = bitstrings[start: end]\n",
    "        chars = ''.join([str(s) for s in substring])\n",
    "        \n",
    "        intval = int(chars, 2)\n",
    "        \n",
    "        value = bounds[i][0] + (intval/largest) *  (bounds[i][1] - bounds[i][0])\n",
    "        decoded.append(value)\n",
    "        \n",
    "    return decoded"
   ]
  },
  {
   "cell_type": "code",
   "execution_count": 36,
   "id": "4a42952d",
   "metadata": {},
   "outputs": [],
   "source": [
    "def selection(pop, scores, k=3):\n",
    "    selection_ix = randint(len(pop))\n",
    "    for ix in randint(0, len(pop), k-1):\n",
    "        if scores[ix] < scores[selection_ix]:\n",
    "            selection_ix = ix\n",
    "            \n",
    "    return pop[selection_ix]"
   ]
  },
  {
   "cell_type": "code",
   "execution_count": 37,
   "id": "c0c23de4",
   "metadata": {},
   "outputs": [],
   "source": [
    "def crossover(p1, p2, r_cross):\n",
    "    c1, c2 = p1.copy(), p2.copy()\n",
    "    \n",
    "    if rand() < r_cross:\n",
    "        pt = randint(1, len(p1)-2)\n",
    "        \n",
    "        c1 = p1[:pt]+p2[pt:]\n",
    "        c2 = p2[:pt]+p1[pt:]\n",
    "        \n",
    "    \n",
    "    return [c1, c2]"
   ]
  },
  {
   "cell_type": "code",
   "execution_count": 38,
   "id": "1dddb576",
   "metadata": {},
   "outputs": [],
   "source": [
    "def mutation(bs, r_mut):\n",
    "    for i in range(len(bs)):    \n",
    "        if rand() < r_mut:\n",
    "            bs[i] = 1-bs[i]"
   ]
  },
  {
   "cell_type": "code",
   "execution_count": 41,
   "id": "ee51891a",
   "metadata": {},
   "outputs": [],
   "source": [
    "def gen_alg(obj, bounds, n_bits, n_iter, n_pop, r_cross, r_mut):\n",
    "    pop = [randint(0, 2, n_bits*len(bounds)).tolist() for _ in range(n_pop)]\n",
    "    best, best_eval = 0, obj(decode(bounds, n_bits, pop[0]))\n",
    "    \n",
    "    for gen in range(n_iter):\n",
    "        decoded = [decode(bounds, n_bits, p) for p in pop]\n",
    "        \n",
    "        scores = [obj(d) for d in decoded]\n",
    "        \n",
    "        for i in range(n_pop):\n",
    "            if scores[i] < best_eval:\n",
    "                best, best_eval = pop[i], scores[i]\n",
    "                print(\">%d, new best f(%s) = %f\" % (gen,  decoded[i], scores[i]))\n",
    "                \n",
    "        selected = [selection(pop, scores) for _ in range(n_pop)]\n",
    "        \n",
    "        children = list()\n",
    "        for i in range(0, n_pop, 2):\n",
    "            p1, p2 = selected[i], selected[i+1]\n",
    "            \n",
    "            for c in crossover(p1, p2, r_cross):\n",
    "                mutation (c, r_mut)\n",
    "                children.append(c)\n",
    "                \n",
    "                \n",
    "        pop = children\n",
    "        \n",
    "    return [best, best_eval]\n"
   ]
  },
  {
   "cell_type": "code",
   "execution_count": 43,
   "id": "9fdb5c4b",
   "metadata": {},
   "outputs": [
    {
     "name": "stdout",
     "output_type": "stream",
     "text": [
      ">0, new best f([0.64666748046875, -6.6241455078125]) = 44.297483\n",
      ">0, new best f([-3.38592529296875, 3.5015869140625]) = 23.725601\n",
      ">0, new best f([0.63140869140625, 3.380126953125]) = 11.823935\n",
      ">0, new best f([-2.40264892578125, 0.8447265625]) = 6.486285\n",
      ">0, new best f([-1.62445068359375, -1.7718505859375]) = 5.778295\n",
      ">0, new best f([-0.965576171875, -0.22857666015625]) = 0.984585\n",
      ">0, new best f([-0.614013671875, 0.36468505859375]) = 0.510008\n",
      ">1, new best f([-0.611572265625, 0.36468505859375]) = 0.507016\n",
      ">4, new best f([0.400390625, 0.504150390625]) = 0.414480\n",
      ">4, new best f([0.440673828125, 0.10406494140625]) = 0.205023\n",
      ">5, new best f([0.328369140625, 0.10284423828125]) = 0.118403\n",
      ">6, new best f([0.050048828125, 0.101318359375]) = 0.012770\n",
      ">7, new best f([0.050048828125, 0.084228515625]) = 0.009599\n",
      ">8, new best f([0.048828125, 0.084228515625]) = 0.009479\n",
      ">9, new best f([0.006103515625, 0.079345703125]) = 0.006333\n",
      ">9, new best f([0.006103515625, 0.02593994140625]) = 0.000710\n",
      ">10, new best f([0.006103515625, 0.00518798828125]) = 0.000064\n",
      ">11, new best f([0.006103515625, 0.001220703125]) = 0.000039\n",
      ">14, new best f([0.0, 0.00396728515625]) = 0.000016\n",
      ">15, new best f([0.0, 0.00152587890625]) = 0.000002\n",
      ">15, new best f([0.0, 0.001220703125]) = 0.000001\n",
      ">32, new best f([0.00030517578125, 0.0006103515625]) = 0.000000\n",
      ">33, new best f([0.0, 0.0006103515625]) = 0.000000\n",
      ">38, new best f([0.00030517578125, 0.0]) = 0.000000\n",
      ">40, new best f([0.0, 0.0]) = 0.000000\n",
      "\n",
      "Done!!!\n",
      "f([0.0, 0.0]) = 0.000000\n"
     ]
    }
   ],
   "source": [
    "n_iter = 100\n",
    "n_bits = 16\n",
    "n_pop = 100\n",
    "r_cross = 0.7\n",
    "r_mut = 1.0/ (float (n_bits) * len(bounds))\n",
    "\n",
    "best, score = gen_alg(objective, bounds, n_bits, n_iter, n_pop, r_cross, r_mut)\n",
    "\n",
    "print(\"\\nDone!!!\")\n",
    "\n",
    "decoded = decode(bounds, n_bits, best)\n",
    "\n",
    "print('f(%s) = %f' % (decoded, score))"
   ]
  }
 ],
 "metadata": {
  "kernelspec": {
   "display_name": "Python 3 (ipykernel)",
   "language": "python",
   "name": "python3"
  },
  "language_info": {
   "codemirror_mode": {
    "name": "ipython",
    "version": 3
   },
   "file_extension": ".py",
   "mimetype": "text/x-python",
   "name": "python",
   "nbconvert_exporter": "python",
   "pygments_lexer": "ipython3",
   "version": "3.9.7"
  }
 },
 "nbformat": 4,
 "nbformat_minor": 5
}
